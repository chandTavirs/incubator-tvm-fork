{
 "cells": [
  {
   "cell_type": "code",
   "execution_count": 2,
   "id": "9ddacdab",
   "metadata": {},
   "outputs": [],
   "source": [
    "import pandas as pd\n",
    "import numpy as np\n",
    "import pywt\n",
    "from scipy.stats import median_absolute_deviation\n",
    "from sklearn.cluster import KMeans\n",
    "import matplotlib.pyplot as plt\n",
    "from scipy import stats\n",
    "from tsfresh import extract_features as ef"
   ]
  },
  {
   "cell_type": "code",
   "execution_count": 12,
   "id": "901478f8",
   "metadata": {},
   "outputs": [],
   "source": [
    "csv_file = '/home/srchand/Desktop/research/TVM_Intel_Fork/tvm/vta/sri_scripts/ro_uart_logs/profiling_data/rcg/csvs/network_210_sample1.csv'\n",
    "\n",
    "# Read the CSV file into a Pandas DataFrame\n",
    "df = pd.read_csv(csv_file)\n",
    "lendf = len(df)\n",
    "\n",
    "# df = df.iloc[lendf//2-10000:lendf//2+10000]\n",
    "# df = df.iloc[175000:225000]\n",
    "\n",
    "\n",
    "# df.reset_index(drop=True, inplace=True)\n",
    "\n",
    "\n",
    "# z_scores = stats.zscore(df['RO_VALUES'])\n",
    "# threshold =5\n",
    "\n",
    "# df = df[(np.abs(z_scores) <= threshold)]\n",
    "# df.reset_index(drop=True, inplace=True)\n",
    "\n",
    "# z_scores = stats.zscore(df['RO_VALUES'])\n",
    "# threshold_pos = 5\n",
    "# threshold_neg = 20\n",
    "# outlier_indices = np.where(z_scores > threshold_pos)\n",
    "# outlier_indices_neg = np.where(z_scores < - threshold_neg)\n",
    "\n",
    "# df_cleaned = df.drop(outlier_indices[0])\n",
    "# df_cleaned = df_cleaned.drop(outlier_indices_neg[0])\n",
    "# df = df_cleaned\n",
    "# df.reset_index(drop=True, inplace=True)"
   ]
  },
  {
   "cell_type": "code",
   "execution_count": 13,
   "id": "38d6e4c6",
   "metadata": {
    "scrolled": true
   },
   "outputs": [
    {
     "data": {
      "image/png": "[encoded data removed]",
      "text/plain": [
       "<Figure size 1440x360 with 1 Axes>"
      ]
     },
     "metadata": {
      "needs_background": "light"
     },
     "output_type": "display_data"
    }
   ],
   "source": [
    "df.plot(subplots=True, figsize=(20,5))\n",
    "plt.ylim(18000,22000)\n",
    "plt.show()"
   ]
  },
  {
   "cell_type": "code",
   "execution_count": 7,
   "id": "062809b6",
   "metadata": {},
   "outputs": [],
   "source": [
    "def extract_features(window, only_stat=False):\n",
    "    features = {}\n",
    "    \n",
    "    features['mean'] = window.mean()\n",
    "    features['std'] = window.std()\n",
    "    features['median'] = np.median(window)\n",
    "    \n",
    "    if only_stat == True:\n",
    "        return pd.Series(features)\n",
    "        \n",
    "    \n",
    "    # Discrete Wavelet Transform (DWT) using pywt library\n",
    "    coeffs = pywt.dwt(window, 'db4')\n",
    "    features['cA'] = np.mean(coeffs[0])  # Approximation coefficients\n",
    "    features['cD'] = np.mean(coeffs[1])  # Detail coefficients\n",
    "#     window['time_index'] = range(len(window))\n",
    "#     window['id'] = [1]*len(window)\n",
    "    \n",
    "#     print(window)\n",
    "#     ts_fresh_feats = ef(window, column_id = 'id')\n",
    "    \n",
    "#     print(ts_fresh_feats)\n",
    "#     apput\n",
    "    \n",
    "    return pd.Series(features)\n"
   ]
  },
  {
   "cell_type": "code",
   "execution_count": 8,
   "id": "222a7d71",
   "metadata": {},
   "outputs": [
    {
     "name": "stderr",
     "output_type": "stream",
     "text": [
      "/tmp/ipykernel_134134/986604382.py:4: FutureWarning: Dropping of nuisance columns in DataFrame reductions (with 'numeric_only=None') is deprecated; in a future version this will raise TypeError.  Select only valid columns before calling the reduction.\n",
      "  features['mean'] = window.mean()\n",
      "/tmp/ipykernel_134134/986604382.py:5: FutureWarning: Dropping of nuisance columns in DataFrame reductions (with 'numeric_only=None') is deprecated; in a future version this will raise TypeError.  Select only valid columns before calling the reduction.\n",
      "  features['std'] = window.std()\n"
     ]
    },
    {
     "ename": "TypeError",
     "evalue": "'<' not supported between instances of 'str' and 'int'",
     "output_type": "error",
     "traceback": [
      "\u001b[0;31m---------------------------------------------------------------------------\u001b[0m",
      "\u001b[0;31mTypeError\u001b[0m                                 Traceback (most recent call last)",
      "Input \u001b[0;32mIn [8]\u001b[0m, in \u001b[0;36m<cell line: 5>\u001b[0;34m()\u001b[0m\n\u001b[1;32m      2\u001b[0m stride \u001b[38;5;241m=\u001b[39m \u001b[38;5;241m1\u001b[39m\n\u001b[1;32m      4\u001b[0m windows \u001b[38;5;241m=\u001b[39m [df\u001b[38;5;241m.\u001b[39miloc[i:i\u001b[38;5;241m+\u001b[39mwindow_size] \u001b[38;5;28;01mfor\u001b[39;00m i \u001b[38;5;129;01min\u001b[39;00m \u001b[38;5;28mrange\u001b[39m(\u001b[38;5;241m0\u001b[39m, \u001b[38;5;28mlen\u001b[39m(df)\u001b[38;5;241m-\u001b[39mwindow_size\u001b[38;5;241m+\u001b[39m\u001b[38;5;241m1\u001b[39m, stride)]\n\u001b[0;32m----> 5\u001b[0m features_df \u001b[38;5;241m=\u001b[39m pd\u001b[38;5;241m.\u001b[39mDataFrame([extract_features(window) \u001b[38;5;28;01mfor\u001b[39;00m window \u001b[38;5;129;01min\u001b[39;00m windows])\n\u001b[1;32m      7\u001b[0m medians \u001b[38;5;241m=\u001b[39m features_df[\u001b[38;5;124m'\u001b[39m\u001b[38;5;124mmedian\u001b[39m\u001b[38;5;124m'\u001b[39m]\n\u001b[1;32m      9\u001b[0m normalized_features \u001b[38;5;241m=\u001b[39m (features_df \u001b[38;5;241m-\u001b[39m features_df\u001b[38;5;241m.\u001b[39mmean()) \u001b[38;5;241m/\u001b[39m features_df\u001b[38;5;241m.\u001b[39mstd()\n",
      "Input \u001b[0;32mIn [8]\u001b[0m, in \u001b[0;36m<listcomp>\u001b[0;34m(.0)\u001b[0m\n\u001b[1;32m      2\u001b[0m stride \u001b[38;5;241m=\u001b[39m \u001b[38;5;241m1\u001b[39m\n\u001b[1;32m      4\u001b[0m windows \u001b[38;5;241m=\u001b[39m [df\u001b[38;5;241m.\u001b[39miloc[i:i\u001b[38;5;241m+\u001b[39mwindow_size] \u001b[38;5;28;01mfor\u001b[39;00m i \u001b[38;5;129;01min\u001b[39;00m \u001b[38;5;28mrange\u001b[39m(\u001b[38;5;241m0\u001b[39m, \u001b[38;5;28mlen\u001b[39m(df)\u001b[38;5;241m-\u001b[39mwindow_size\u001b[38;5;241m+\u001b[39m\u001b[38;5;241m1\u001b[39m, stride)]\n\u001b[0;32m----> 5\u001b[0m features_df \u001b[38;5;241m=\u001b[39m pd\u001b[38;5;241m.\u001b[39mDataFrame([\u001b[43mextract_features\u001b[49m\u001b[43m(\u001b[49m\u001b[43mwindow\u001b[49m\u001b[43m)\u001b[49m \u001b[38;5;28;01mfor\u001b[39;00m window \u001b[38;5;129;01min\u001b[39;00m windows])\n\u001b[1;32m      7\u001b[0m medians \u001b[38;5;241m=\u001b[39m features_df[\u001b[38;5;124m'\u001b[39m\u001b[38;5;124mmedian\u001b[39m\u001b[38;5;124m'\u001b[39m]\n\u001b[1;32m      9\u001b[0m normalized_features \u001b[38;5;241m=\u001b[39m (features_df \u001b[38;5;241m-\u001b[39m features_df\u001b[38;5;241m.\u001b[39mmean()) \u001b[38;5;241m/\u001b[39m features_df\u001b[38;5;241m.\u001b[39mstd()\n",
      "Input \u001b[0;32mIn [7]\u001b[0m, in \u001b[0;36mextract_features\u001b[0;34m(window, only_stat)\u001b[0m\n\u001b[1;32m      4\u001b[0m features[\u001b[38;5;124m'\u001b[39m\u001b[38;5;124mmean\u001b[39m\u001b[38;5;124m'\u001b[39m] \u001b[38;5;241m=\u001b[39m window\u001b[38;5;241m.\u001b[39mmean()\n\u001b[1;32m      5\u001b[0m features[\u001b[38;5;124m'\u001b[39m\u001b[38;5;124mstd\u001b[39m\u001b[38;5;124m'\u001b[39m] \u001b[38;5;241m=\u001b[39m window\u001b[38;5;241m.\u001b[39mstd()\n\u001b[0;32m----> 6\u001b[0m features[\u001b[38;5;124m'\u001b[39m\u001b[38;5;124mmedian\u001b[39m\u001b[38;5;124m'\u001b[39m] \u001b[38;5;241m=\u001b[39m \u001b[43mnp\u001b[49m\u001b[38;5;241;43m.\u001b[39;49m\u001b[43mmedian\u001b[49m\u001b[43m(\u001b[49m\u001b[43mwindow\u001b[49m\u001b[43m)\u001b[49m\n\u001b[1;32m      8\u001b[0m \u001b[38;5;28;01mif\u001b[39;00m only_stat \u001b[38;5;241m==\u001b[39m \u001b[38;5;28;01mTrue\u001b[39;00m:\n\u001b[1;32m      9\u001b[0m     \u001b[38;5;28;01mreturn\u001b[39;00m pd\u001b[38;5;241m.\u001b[39mSeries(features)\n",
      "File \u001b[0;32m<__array_function__ internals>:180\u001b[0m, in \u001b[0;36mmedian\u001b[0;34m(*args, **kwargs)\u001b[0m\n",
      "File \u001b[0;32m~/anaconda3/envs/tvm-build-il-2/lib/python3.8/site-packages/numpy/lib/function_base.py:3793\u001b[0m, in \u001b[0;36mmedian\u001b[0;34m(a, axis, out, overwrite_input, keepdims)\u001b[0m\n\u001b[1;32m   3711\u001b[0m \u001b[38;5;129m@array_function_dispatch\u001b[39m(_median_dispatcher)\n\u001b[1;32m   3712\u001b[0m \u001b[38;5;28;01mdef\u001b[39;00m \u001b[38;5;21mmedian\u001b[39m(a, axis\u001b[38;5;241m=\u001b[39m\u001b[38;5;28;01mNone\u001b[39;00m, out\u001b[38;5;241m=\u001b[39m\u001b[38;5;28;01mNone\u001b[39;00m, overwrite_input\u001b[38;5;241m=\u001b[39m\u001b[38;5;28;01mFalse\u001b[39;00m, keepdims\u001b[38;5;241m=\u001b[39m\u001b[38;5;28;01mFalse\u001b[39;00m):\n\u001b[1;32m   3713\u001b[0m     \u001b[38;5;124;03m\"\"\"\u001b[39;00m\n\u001b[1;32m   3714\u001b[0m \u001b[38;5;124;03m    Compute the median along the specified axis.\u001b[39;00m\n\u001b[1;32m   3715\u001b[0m \n\u001b[0;32m   (...)\u001b[0m\n\u001b[1;32m   3791\u001b[0m \n\u001b[1;32m   3792\u001b[0m \u001b[38;5;124;03m    \"\"\"\u001b[39;00m\n\u001b[0;32m-> 3793\u001b[0m     r, k \u001b[38;5;241m=\u001b[39m \u001b[43m_ureduce\u001b[49m\u001b[43m(\u001b[49m\u001b[43ma\u001b[49m\u001b[43m,\u001b[49m\u001b[43m \u001b[49m\u001b[43mfunc\u001b[49m\u001b[38;5;241;43m=\u001b[39;49m\u001b[43m_median\u001b[49m\u001b[43m,\u001b[49m\u001b[43m \u001b[49m\u001b[43maxis\u001b[49m\u001b[38;5;241;43m=\u001b[39;49m\u001b[43maxis\u001b[49m\u001b[43m,\u001b[49m\u001b[43m \u001b[49m\u001b[43mout\u001b[49m\u001b[38;5;241;43m=\u001b[39;49m\u001b[43mout\u001b[49m\u001b[43m,\u001b[49m\n\u001b[1;32m   3794\u001b[0m \u001b[43m                    \u001b[49m\u001b[43moverwrite_input\u001b[49m\u001b[38;5;241;43m=\u001b[39;49m\u001b[43moverwrite_input\u001b[49m\u001b[43m)\u001b[49m\n\u001b[1;32m   3795\u001b[0m     \u001b[38;5;28;01mif\u001b[39;00m keepdims:\n\u001b[1;32m   3796\u001b[0m         \u001b[38;5;28;01mreturn\u001b[39;00m r\u001b[38;5;241m.\u001b[39mreshape(k)\n",
      "File \u001b[0;32m~/anaconda3/envs/tvm-build-il-2/lib/python3.8/site-packages/numpy/lib/function_base.py:3702\u001b[0m, in \u001b[0;36m_ureduce\u001b[0;34m(a, func, **kwargs)\u001b[0m\n\u001b[1;32m   3699\u001b[0m \u001b[38;5;28;01melse\u001b[39;00m:\n\u001b[1;32m   3700\u001b[0m     keepdim \u001b[38;5;241m=\u001b[39m (\u001b[38;5;241m1\u001b[39m,) \u001b[38;5;241m*\u001b[39m a\u001b[38;5;241m.\u001b[39mndim\n\u001b[0;32m-> 3702\u001b[0m r \u001b[38;5;241m=\u001b[39m \u001b[43mfunc\u001b[49m\u001b[43m(\u001b[49m\u001b[43ma\u001b[49m\u001b[43m,\u001b[49m\u001b[43m \u001b[49m\u001b[38;5;241;43m*\u001b[39;49m\u001b[38;5;241;43m*\u001b[39;49m\u001b[43mkwargs\u001b[49m\u001b[43m)\u001b[49m\n\u001b[1;32m   3703\u001b[0m \u001b[38;5;28;01mreturn\u001b[39;00m r, keepdim\n",
      "File \u001b[0;32m~/anaconda3/envs/tvm-build-il-2/lib/python3.8/site-packages/numpy/lib/function_base.py:3828\u001b[0m, in \u001b[0;36m_median\u001b[0;34m(a, axis, out, overwrite_input)\u001b[0m\n\u001b[1;32m   3826\u001b[0m         part \u001b[38;5;241m=\u001b[39m a\n\u001b[1;32m   3827\u001b[0m \u001b[38;5;28;01melse\u001b[39;00m:\n\u001b[0;32m-> 3828\u001b[0m     part \u001b[38;5;241m=\u001b[39m \u001b[43mpartition\u001b[49m\u001b[43m(\u001b[49m\u001b[43ma\u001b[49m\u001b[43m,\u001b[49m\u001b[43m \u001b[49m\u001b[43mkth\u001b[49m\u001b[43m,\u001b[49m\u001b[43m \u001b[49m\u001b[43maxis\u001b[49m\u001b[38;5;241;43m=\u001b[39;49m\u001b[43maxis\u001b[49m\u001b[43m)\u001b[49m\n\u001b[1;32m   3830\u001b[0m \u001b[38;5;28;01mif\u001b[39;00m part\u001b[38;5;241m.\u001b[39mshape \u001b[38;5;241m==\u001b[39m ():\n\u001b[1;32m   3831\u001b[0m     \u001b[38;5;66;03m# make 0-D arrays work\u001b[39;00m\n\u001b[1;32m   3832\u001b[0m     \u001b[38;5;28;01mreturn\u001b[39;00m part\u001b[38;5;241m.\u001b[39mitem()\n",
      "File \u001b[0;32m<__array_function__ internals>:180\u001b[0m, in \u001b[0;36mpartition\u001b[0;34m(*args, **kwargs)\u001b[0m\n",
      "File \u001b[0;32m~/anaconda3/envs/tvm-build-il-2/lib/python3.8/site-packages/numpy/core/fromnumeric.py:758\u001b[0m, in \u001b[0;36mpartition\u001b[0;34m(a, kth, axis, kind, order)\u001b[0m\n\u001b[1;32m    756\u001b[0m \u001b[38;5;28;01melse\u001b[39;00m:\n\u001b[1;32m    757\u001b[0m     a \u001b[38;5;241m=\u001b[39m asanyarray(a)\u001b[38;5;241m.\u001b[39mcopy(order\u001b[38;5;241m=\u001b[39m\u001b[38;5;124m\"\u001b[39m\u001b[38;5;124mK\u001b[39m\u001b[38;5;124m\"\u001b[39m)\n\u001b[0;32m--> 758\u001b[0m \u001b[43ma\u001b[49m\u001b[38;5;241;43m.\u001b[39;49m\u001b[43mpartition\u001b[49m\u001b[43m(\u001b[49m\u001b[43mkth\u001b[49m\u001b[43m,\u001b[49m\u001b[43m \u001b[49m\u001b[43maxis\u001b[49m\u001b[38;5;241;43m=\u001b[39;49m\u001b[43maxis\u001b[49m\u001b[43m,\u001b[49m\u001b[43m \u001b[49m\u001b[43mkind\u001b[49m\u001b[38;5;241;43m=\u001b[39;49m\u001b[43mkind\u001b[49m\u001b[43m,\u001b[49m\u001b[43m \u001b[49m\u001b[43morder\u001b[49m\u001b[38;5;241;43m=\u001b[39;49m\u001b[43morder\u001b[49m\u001b[43m)\u001b[49m\n\u001b[1;32m    759\u001b[0m \u001b[38;5;28;01mreturn\u001b[39;00m a\n",
      "\u001b[0;31mTypeError\u001b[0m: '<' not supported between instances of 'str' and 'int'"
     ]
    }
   ],
   "source": [
    "window_size = 500\n",
    "stride = 1\n",
    "\n",
    "windows = [df.iloc[i:i+window_size] for i in range(0, len(df)-window_size+1, stride)]\n",
    "features_df = pd.DataFrame([extract_features(window) for window in windows])\n",
    "\n",
    "medians = features_df['median']\n",
    "\n",
    "normalized_features = (features_df - features_df.mean()) / features_df.std()\n",
    "\n",
    "normalized_features['median'] = medians\n",
    "\n",
    "num_clusters = 2\n",
    "kmeans = KMeans(n_clusters=num_clusters)\n",
    "cluster_labels = kmeans.fit_predict(normalized_features)"
   ]
  },
  {
   "cell_type": "code",
   "execution_count": null,
   "id": "4d081378",
   "metadata": {},
   "outputs": [],
   "source": [
    "cluster_1_indices = np.where(cluster_labels == 1)[0]"
   ]
  },
  {
   "cell_type": "code",
   "execution_count": null,
   "id": "e0befa74",
   "metadata": {},
   "outputs": [],
   "source": [
    "exec_data = df.iloc[cluster_1_indices]\n",
    "exec_data.reset_index(drop=True, inplace=True)\n",
    "# exec_data = exec_data[2000:]"
   ]
  },
  {
   "cell_type": "code",
   "execution_count": null,
   "id": "17c029d4",
   "metadata": {},
   "outputs": [],
   "source": [
    "exec_data.plot()"
   ]
  },
  {
   "cell_type": "code",
   "execution_count": null,
   "id": "f04155d9",
   "metadata": {},
   "outputs": [],
   "source": [
    "exec_data = exec_data['RO_VALUES']"
   ]
  },
  {
   "cell_type": "code",
   "execution_count": null,
   "id": "3755b153",
   "metadata": {},
   "outputs": [],
   "source": [
    "window_size = 150\n",
    "stride = 1\n",
    "\n",
    "windows = [exec_data.iloc[i:i+window_size] for i in range(0, len(exec_data)-window_size+1, stride)]\n",
    "features_df = pd.DataFrame([extract_features(window) for window in windows])\n",
    "\n",
    "\n",
    "normalized_features = (features_df - features_df.mean()) / features_df.std()\n",
    "\n",
    "\n",
    "num_clusters = 2\n",
    "kmeans = KMeans(n_clusters=num_clusters)\n",
    "cluster_labels = kmeans.fit_predict(normalized_features)\n"
   ]
  },
  {
   "cell_type": "code",
   "execution_count": null,
   "id": "fe10b097",
   "metadata": {},
   "outputs": [],
   "source": [
    "plt.figure(figsize=(20, 10))\n",
    "plt.scatter(range(len(cluster_labels)), cluster_labels, c=cluster_labels, cmap='viridis')\n",
    "plt.xlabel('Window')\n",
    "plt.ylabel('Cluster Label')\n",
    "plt.title('Window vs Cluster Label')\n",
    "plt.show()"
   ]
  },
  {
   "cell_type": "code",
   "execution_count": null,
   "id": "6ac4afde",
   "metadata": {},
   "outputs": [],
   "source": []
  }
 ],
 "metadata": {
  "kernelspec": {
   "display_name": "Python [conda env:tvm-build-il-2] *",
   "language": "python",
   "name": "conda-env-tvm-build-il-2-py"
  },
  "language_info": {
   "codemirror_mode": {
    "name": "ipython",
    "version": 3
   },
   "file_extension": ".py",
   "mimetype": "text/x-python",
   "name": "python",
   "nbconvert_exporter": "python",
   "pygments_lexer": "ipython3",
   "version": "3.8.13"
  }
 },
 "nbformat": 4,
 "nbformat_minor": 5
}
