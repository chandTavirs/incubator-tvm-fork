{
 "cells": [
  {
   "cell_type": "code",
   "execution_count": 16,
   "id": "ba69e6e5",
   "metadata": {},
   "outputs": [],
   "source": [
    "list_emp=['conv_7_7_384_64_1_1_0_0_1_1', 'conv_7_7_384_64_1_1_0_0_1_1', 'conv_28_28_16_32_3_3_1_1_1_1', 'conv_28_28_16_32_3_3_1_1_1_1', 'conv_14_14_48_16_1_1_0_0_1_1', 'conv_14_14_48_16_1_1_0_0_1_1', 'conv_7_7_288_48_1_1_0_0_1_1', 'conv_7_7_288_48_1_1_0_0_1_1', 'conv_7_7_400_400_1_1_0_0_1_1', 'conv_7_7_400_400_1_1_0_0_1_1', 'conv_14_14_16_48_1_1_0_0_1_1', 'conv_14_14_16_48_1_1_0_0_1_1', 'conv_7_7_240_48_1_1_0_0_1_1', 'conv_7_7_240_48_1_1_0_0_1_1', 'conv_14_14_160_160_1_1_0_0_1_1', 'conv_7_7_48_288_1_1_0_0_1_1', 'conv_7_7_48_288_1_1_0_0_1_1', 'conv_14_14_16_48_3_3_1_1_1_1', 'conv_13_13_48_192_1_1_0_0_1_1', 'conv_13_13_48_192_1_1_0_0_1_1', 'conv_7_7_64_384_1_1_0_0_1_1', 'conv_7_7_64_384_1_1_0_0_1_1', 'conv_7_7_384_96_1_1_0_0_1_1', 'conv_7_7_96_576_1_1_0_0_1_1', 'conv_7_7_96_576_1_1_0_0_1_1']"
   ]
  },
  {
   "cell_type": "code",
   "execution_count": 17,
   "id": "1a3a5a1e",
   "metadata": {},
   "outputs": [],
   "source": [
    "list_emp = list(set(list_emp))"
   ]
  },
  {
   "cell_type": "code",
   "execution_count": 18,
   "id": "6f387833",
   "metadata": {},
   "outputs": [
    {
     "data": {
      "text/plain": [
       "['conv_7_7_64_384_1_1_0_0_1_1',\n",
       " 'conv_7_7_384_64_1_1_0_0_1_1',\n",
       " 'conv_7_7_400_400_1_1_0_0_1_1',\n",
       " 'conv_14_14_16_48_3_3_1_1_1_1',\n",
       " 'conv_13_13_48_192_1_1_0_0_1_1',\n",
       " 'conv_14_14_16_48_1_1_0_0_1_1',\n",
       " 'conv_7_7_48_288_1_1_0_0_1_1',\n",
       " 'conv_7_7_384_96_1_1_0_0_1_1',\n",
       " 'conv_7_7_96_576_1_1_0_0_1_1',\n",
       " 'conv_14_14_48_16_1_1_0_0_1_1',\n",
       " 'conv_14_14_160_160_1_1_0_0_1_1',\n",
       " 'conv_7_7_288_48_1_1_0_0_1_1',\n",
       " 'conv_7_7_240_48_1_1_0_0_1_1',\n",
       " 'conv_28_28_16_32_3_3_1_1_1_1']"
      ]
     },
     "execution_count": 18,
     "metadata": {},
     "output_type": "execute_result"
    }
   ],
   "source": [
    "list_emp\n"
   ]
  },
  {
   "cell_type": "code",
   "execution_count": 20,
   "id": "ab640211",
   "metadata": {},
   "outputs": [
    {
     "name": "stdout",
     "output_type": "stream",
     "text": [
      "224:18816:27712:708:1536\n",
      "224:3136:43392:148:256\n",
      "224:19600:179600:736:1600\n",
      "728:10816:1339776:5230:256\n",
      "224:9408:10048:568:192\n",
      "224:32448:17328:684:768\n",
      "224:9408:3904:120:192\n",
      "224:14112:16176:540:1152\n",
      "224:11760:41696:456:960\n",
      "224:4704:55680:204:384\n",
      "224:28224:60000:1044:2304\n",
      "224:3136:10176:68:64\n",
      "6328:143360:3000960:2748:5120\n",
      "224:31360:56960:624:640\n",
      "224:2352:27936:120:192\n",
      "224:2352:23280:120:192\n",
      "224:25088:17152:792:128\n"
     ]
    }
   ],
   "source": [
    "import os\n",
    "\n",
    "dir_path = \"/home/srchand/Desktop/research/TVM_Intel_Fork/tvm/vta/sri_scripts/uart_sniffer_data/convs\"\n",
    "for string in list_emp:\n",
    "    for filename in os.listdir(dir_path):\n",
    "        if string in filename:\n",
    "            with open(os.path.join(dir_path,filename)) as myfile:\n",
    "                first_line = myfile.readline()\n",
    "                if first_line is not None and first_line != \"\":\n",
    "                    first_line = \":\".join(str(int(int(num)/2)) for num in first_line.split(':'))\n",
    "                    print(first_line)\n",
    "    "
   ]
  },
  {
   "cell_type": "code",
   "execution_count": 6,
   "id": "b52e8f85",
   "metadata": {},
   "outputs": [
    {
     "name": "stdout",
     "output_type": "stream",
     "text": [
      "(\"workload_0\", Workload(1, 7, 7, 64, 384, 1, 1, 0, 0, 1, 1)),\n",
      "(\"workload_1\", Workload(1, 7, 7, 576, 576, 3, 3, 1, 1, 1, 1)),\n",
      "(\"workload_2\", Workload(1, 7, 7, 400, 400, 1, 1, 0, 0, 1, 1)),\n",
      "(\"workload_3\", Workload(1, 28, 28, 512, 512, 3, 3, 1, 1, 1, 1)),\n",
      "(\"workload_4\", Workload(1, 14, 14, 16, 48, 3, 3, 1, 1, 1, 1)),\n",
      "(\"workload_5\", Workload(1, 7, 7, 1024, 1024, 3, 3, 1, 1, 2, 2)),\n",
      "(\"workload_6\", Workload(1, 13, 13, 48, 192, 1, 1, 0, 0, 1, 1)),\n",
      "(\"workload_7\", Workload(1, 14, 14, 16, 48, 1, 1, 0, 0, 1, 1)),\n",
      "(\"workload_8\", Workload(1, 7, 7, 48, 288, 1, 1, 0, 0, 1, 1)),\n",
      "(\"workload_9\", Workload(1, 7, 7, 384, 96, 1, 1, 0, 0, 1, 1)),\n",
      "(\"workload_10\", Workload(1, 7, 7, 912, 912, 3, 3, 1, 1, 2, 2)),\n",
      "(\"workload_11\", Workload(1, 14, 14, 48, 16, 1, 1, 0, 0, 1, 1)),\n",
      "(\"workload_12\", Workload(1, 7, 7, 96, 576, 1, 1, 0, 0, 1, 1)),\n",
      "(\"workload_13\", Workload(1, 14, 14, 160, 160, 1, 1, 0, 0, 1, 1)),\n",
      "(\"workload_14\", Workload(1, 7, 7, 288, 48, 1, 1, 0, 0, 1, 1)),\n",
      "(\"workload_15\", Workload(1, 7, 7, 240, 48, 1, 1, 0, 0, 1, 1)),\n",
      "(\"workload_16\", Workload(1, 7, 7, 1024, 1024, 3, 3, 1, 1, 1, 1)),\n",
      "(\"workload_17\", Workload(1, 56, 56, 256, 256, 3, 3, 1, 1, 1, 1)),\n"
     ]
    }
   ],
   "source": [
    "for i, wkl in enumerate(list_emp):\n",
    "    list_hyp = wkl.split('_')[1:]\n",
    "    str_hyp = \", \".join(list_hyp)\n",
    "    print(\"(\\\"workload_{}\\\", Workload(1, {})),\".format(i, str_hyp))"
   ]
  },
  {
   "cell_type": "code",
   "execution_count": null,
   "id": "fcc6c4bd",
   "metadata": {},
   "outputs": [],
   "source": [
    "(\"workload_67\", Workload(1, 14, 14, 256, 512, 1, 1, 0, 0, 1, 1)),"
   ]
  }
 ],
 "metadata": {
  "kernelspec": {
   "display_name": "Python [conda env:tvm-build-il-2] *",
   "language": "python",
   "name": "conda-env-tvm-build-il-2-py"
  },
  "language_info": {
   "codemirror_mode": {
    "name": "ipython",
    "version": 3
   },
   "file_extension": ".py",
   "mimetype": "text/x-python",
   "name": "python",
   "nbconvert_exporter": "python",
   "pygments_lexer": "ipython3",
   "version": "3.8.13"
  }
 },
 "nbformat": 4,
 "nbformat_minor": 5
}
