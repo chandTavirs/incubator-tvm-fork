{
 "cells": [
  {
   "cell_type": "code",
   "execution_count": 2,
   "id": "90ac5459",
   "metadata": {},
   "outputs": [
    {
     "data": {
      "text/plain": [
       "61"
      ]
     },
     "execution_count": 2,
     "metadata": {},
     "output_type": "execute_result"
    }
   ],
   "source": [
    "broken_networks = ['network_141_set_0', 'network_12_set_0', 'network_193_set_0', 'network_28_set_0', 'network_5_set_0', 'network_114_set_0', 'network_83_set_0', 'network_55_set_0', 'network_131_set_0', 'network_124_set_0', 'network_163_set_0', 'network_14_set_0', 'network_143_set_0', 'network_105_set_0', 'network_32_set_0', 'network_18_set_0', 'network_122_set_0', 'network_101_set_0', 'network_60_set_0', 'network_108_set_0', 'network_194_set_0', 'network_52_set_0', 'network_51_set_0', 'network_19_set_0', 'network_59_set_0', 'network_177_set_0', 'network_182_set_0', 'network_10_set_0', 'network_133_set_0', 'network_73_set_0', 'network_152_set_0', 'network_169_set_0', 'network_100_set_0', 'network_40_set_0', 'network_170_set_0', 'network_192_set_0', 'network_84_set_0', 'network_153_set_0', 'network_171_set_0', 'network_53_set_0', 'network_64_set_0', 'network_27_set_0', 'network_165_set_0', 'network_144_set_0', 'network_97_set_0', 'network_151_set_0', 'network_126_set_0', 'network_140_set_0', 'network_4_set_0', 'network_70_set_0', 'network_6_set_0', 'network_95_set_0', 'network_66_set_0', 'network_118_set_0', 'network_195_set_0', 'network_123_set_0', 'network_111_set_0', 'network_174_set_0', 'network_117_set_0', 'network_41_set_0', 'network_159_set_0']\n",
    "len(broken_networks)"
   ]
  },
  {
   "cell_type": "code",
   "execution_count": null,
   "id": "57f3c79e",
   "metadata": {},
   "outputs": [],
   "source": []
  }
 ],
 "metadata": {
  "kernelspec": {
   "display_name": "Python 3 (ipykernel)",
   "language": "python",
   "name": "python3"
  },
  "language_info": {
   "codemirror_mode": {
    "name": "ipython",
    "version": 3
   },
   "file_extension": ".py",
   "mimetype": "text/x-python",
   "name": "python",
   "nbconvert_exporter": "python",
   "pygments_lexer": "ipython3",
   "version": "3.8.13"
  }
 },
 "nbformat": 4,
 "nbformat_minor": 5
}
