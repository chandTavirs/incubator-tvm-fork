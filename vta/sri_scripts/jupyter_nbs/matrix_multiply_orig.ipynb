{
 "cells": [
  {
   "cell_type": "code",
   "execution_count": 1,
   "metadata": {},
   "outputs": [],
   "source": [
    "%matplotlib inline"
   ]
  },
  {
   "cell_type": "code",
   "execution_count": 2,
   "metadata": {},
   "outputs": [],
   "source": [
    "! export $VTA_TARGET=zcu104"
   ]
  },
  {
   "cell_type": "code",
   "execution_count": 3,
   "metadata": {},
   "outputs": [
    {
     "name": "stdout",
     "output_type": "stream",
     "text": [
      "pynq\r\n"
     ]
    }
   ],
   "source": [
    "! echo $VTA_TARGET"
   ]
  },
  {
   "cell_type": "markdown",
   "metadata": {},
   "source": [
    "\n",
    "\n",
    "# Simple Matrix Multiply\n",
    "**Author**: [Thierry Moreau](https://homes.cs.washington.edu/~moreau/)\n",
    "\n",
    "In this tutorial, we will build on top of the `vta-get-started` tutorial\n",
    "and introduce additional concepts required to implement matrix multiplication\n",
    "on VTA with the TVM workflow.\n"
   ]
  },
  {
   "cell_type": "markdown",
   "metadata": {},
   "source": [
    "## RPC Setup\n",
    "We start by programming the Pynq's FPGA and building its RPC runtime\n",
    "as we did in the VTA introductory tutorial.\n",
    "\n"
   ]
  },
  {
   "cell_type": "code",
   "execution_count": 2,
   "metadata": {},
   "outputs": [],
   "source": [
    "from __future__ import absolute_import, print_function\n",
    "\n",
    "import os\n",
    "import tvm\n",
    "from tvm import te\n",
    "import vta\n",
    "import numpy as np\n",
    "from tvm import rpc\n",
    "from tvm.contrib import utils\n",
    "from vta.testing import simulator\n",
    "\n",
    "# Load VTA parameters from the 3rdparty/vta-hw/config/vta_config.json file\n",
    "env = vta.get_env()\n",
    "\n"
   ]
  },
  {
   "cell_type": "code",
   "execution_count": 3,
   "metadata": {},
   "outputs": [],
   "source": [
    "# We read the Pynq RPC host IP address and port number from the OS environment\n",
    "#host = os.environ.get(\"VTA_RPC_HOST\", \"192.168.2.99\")\n",
    "host = \"10.100.82.139\"\n",
    "port = int(os.environ.get(\"VTA_RPC_PORT\", \"9091\"))\n",
    "\n",
    "# We configure both the bitstream and the runtime system on the Pynq\n",
    "# to match the VTA configuration specified by the vta_config.json file.\n",
    "if env.TARGET == \"pynq\" or env.TARGET == \"de10nano\" or env.TARGET == \"zcu104\":\n",
    "\n",
    "    # Make sure that TVM was compiled with RPC=1\n",
    "    assert tvm.runtime.enabled(\"rpc\")\n",
    "    remote = rpc.connect(host, port)\n",
    "\n",
    "    # Reconfigure the JIT runtime\n",
    "    vta.reconfig_runtime(remote)\n",
    "\n",
    "    # Program the FPGA with a pre-compiled VTA bitstream.\n",
    "    # You can program the FPGA with your own custom bitstream\n",
    "    # by passing the path to the bitstream file instead of None.\n",
    "    vta.program_fpga(remote, bitstream=\"/home/srchand/Desktop/research/TVM_Intel_Fork/tvm/vta/sri_scripts/bitstreams/vta_zcu104_wrapper.bit\")\n",
    "\n",
    "# In simulation mode, host the RPC server locally.\n",
    "elif env.TARGET in [\"sim\", \"tsim\"]:\n",
    "    remote = rpc.LocalSession()"
   ]
  },
  {
   "cell_type": "markdown",
   "metadata": {},
   "source": [
    "## Computation Declaration\n",
    "In this example we describe a simple matrix multiplication addition, which\n",
    "requires multiple computation stages, as shown in the dataflow diagram below.\n",
    "First we describe the input tensors :code:`A` and :code:`B` that are living\n",
    "in main memory.\n",
    "Second, we need to declare intermediate tensors :code:`A_buf` and\n",
    ":code:`B_buf`, which will live in VTA's on-chip buffers.\n",
    "Having this extra computational stage allows us to explicitly\n",
    "stage cached reads and writes.\n",
    "Third, we describe the matrix multiplication computation over\n",
    ":code:`A_buf` and :code:`B_buf` to produce the product matrix :code:`C_buf`.\n",
    "The last operation is a cast and copy back to DRAM, into results tensor\n",
    ":code:`C`.\n",
    "\n",
    "<img src=\"https://raw.githubusercontent.com/uwsampl/web-data/main/vta/tutorial/gemm_dataflow.png\" align=\"center\">\n",
    "\n"
   ]
  },
  {
   "cell_type": "markdown",
   "metadata": {},
   "source": [
    "### Data Layout\n",
    "We describe the placeholder tensors :code:`A`, and :code:`B` in a tiled data\n",
    "format to match the data layout requirements imposed by the VTA tensor core.\n",
    "\n"
   ]
  },
  {
   "cell_type": "markdown",
   "metadata": {},
   "source": [
    "<div class=\"alert alert-info\"><h4>Note</h4><p>**Data Tiling**\n",
    "\n",
    "  One source of complexity when targeting accelerators is to make sure\n",
    "  that the data layout matches the layout imposed by the accelerator design.\n",
    "  VTA is designed around a *tensor core* that performs, one matrix-matrix\n",
    "  operation per cycle between an activation matrix and a weight matrix,\n",
    "  adding the result matrix to an accumulator matrix, as shown in the\n",
    "  figure below.\n",
    "\n",
    "  .. image:: https://raw.githubusercontent.com/uwsampl/web-data/main/vta/tutorial/tensor_core.png\n",
    "       :align: center\n",
    "       :width: 480px\n",
    "\n",
    "  The dimensions of that matrix-matrix multiplication are specified in\n",
    "  the :code:`vta_config.json` configuration file.\n",
    "  The activation matrix has a :code:`(BATCH, BLOCK_IN)` shape\n",
    "  and the transposed weight matrix has a :code:`(BLOCK_OUT, BLOCK_IN)` shape,\n",
    "  thus inferring that the resulting output matrix has a\n",
    "  :code:`(BATCH, BLOCK_OUT)` shape.\n",
    "  Consequently input and output tensors processed by VTA need to be\n",
    "  tiled according to these aforementioned dimension.\n",
    "\n",
    "  The diagram below shows the impact of data tiling on a matrix that is\n",
    "  originally of shape (4, 8).\n",
    "  Tiling by a (2, 2) tile shape ensures that data within each tile is\n",
    "  contiguous.\n",
    "  The resulting tiled tensor has a shape of (2, 4, 2, 2).\n",
    "\n",
    "  .. image:: https://raw.githubusercontent.com/uwsampl/web-data/main/vta/tutorial/data_tiling.png\n",
    "       :align: center\n",
    "       :width: 480px</p></div>\n",
    "\n",
    "We first define the variables :code:`m`, :code:`n`, :code:`o` to represent\n",
    "the shape of the matrix multiplication. These variables are multiplicative\n",
    "factors over the :code:`BLOCK_OUT`, :code:`BLOCK_IN`, and :code:`BATCH`\n",
    "tensor dimensions respectively.\n",
    "By default, the configuration file sets :code:`BATCH`, :code:`BLOCK_IN`, and\n",
    ":code:`BLOCK_OUT` to be 1, 16 and 16 respectively (:code:`BATCH` being set to\n",
    "1 implies that our compute building block is vector-matrix multiply).\n",
    "\n",
    "\n"
   ]
  },
  {
   "cell_type": "markdown",
   "metadata": {},
   "source": [
    "<div class=\"alert alert-info\"><h4>Note</h4><p>**Data Types**\n",
    "\n",
    "  It's important to not only match the inner-tile\n",
    "  dimension of VTA's tensor core, but also to match the specific data types\n",
    "  expected by VTA.\n",
    "  VTA for now only supports fixed point data types, which integer width is\n",
    "  specified in the :code:`vta_config.json` file by :code:`INP_WIDTH` and\n",
    "  :code:`WGT_WIDTH` for the activations and weights data types respectively.\n",
    "  In addition, the accumulator data type integer width is specified by\n",
    "  :code:`ACC_WIDTH`.</p></div>\n",
    "\n",
    "By default, the configuration file sets :code:`INP_WIDTH`\n",
    "and :code:`WGT_WIDTH` to 8.\n",
    "The accumulator width :code:`ACC_WIDTH` is set to 32, in order to avoid\n",
    "overflow during accumulation.\n",
    "As a result, :code:`env.inp_dtype` and :code:`env.wgt_dtype` are all\n",
    "narrow 8-bit integers, while :code:`env.acc_dtype` is a standard 32-bit\n",
    "integer.\n",
    "\n"
   ]
  },
  {
   "cell_type": "code",
   "execution_count": 4,
   "metadata": {},
   "outputs": [],
   "source": [
    "# Output channel factor m - total 16x16=256 output channels\n",
    "m = 16\n",
    "# Input channel factor n - total 16x16=256 input channels\n",
    "n = 16\n",
    "# Batch factor o (we use single batch inference)\n",
    "o = 1\n",
    "# A placeholder tensor in tiled data format\n",
    "A = te.placeholder((o, n, env.BATCH, env.BLOCK_IN), name=\"A\", dtype=env.inp_dtype)\n",
    "# B placeholder tensor in tiled data format\n",
    "B = te.placeholder((m, n, env.BLOCK_OUT, env.BLOCK_IN), name=\"B\", dtype=env.wgt_dtype)\n",
    "# A copy buffer\n",
    "A_buf = te.compute((o, n, env.BATCH, env.BLOCK_IN), lambda *i: A(*i), \"A_buf\")\n",
    "# B copy buffer\n",
    "B_buf = te.compute((m, n, env.BLOCK_OUT, env.BLOCK_IN), lambda *i: B(*i), \"B_buf\")"
   ]
  },
  {
   "cell_type": "markdown",
   "metadata": {},
   "source": [
    "### Matrix Multiplication\n",
    "Now we're ready to describe the matrix multiplication result tensor :code:`C`,\n",
    "with another compute operation.\n",
    "The compute function takes the shape of the tensor, as well as a lambda\n",
    "function that describes the computation rule for each position of the tensor.\n",
    "\n",
    "In order to implement matrix multiplication, the lambda function needs to\n",
    "include a reduction formula over the input channel dimension axes.\n",
    "To create a reduction formula, we can declare a reduction axis using\n",
    ":code:`te.reduce_axis`, which takes in the range of reductions.\n",
    ":code:`te.sum` takes in the expression to be reduced as well as\n",
    "the reduction axes to compute the sum of value over all k in the declared\n",
    "ranges.\n",
    "\n",
    "Note that the reduction needs to be performed over 32-bit :code:`env.acc_dtype`\n",
    "accumulator data types.\n",
    "\n",
    "No computation happens during this phase, as we are only declaring how\n",
    "the computation should be done.\n",
    "\n"
   ]
  },
  {
   "cell_type": "code",
   "execution_count": 5,
   "metadata": {},
   "outputs": [],
   "source": [
    "# Outer input feature reduction axis\n",
    "ko = te.reduce_axis((0, n), name=\"ko\")\n",
    "# Inner input feature reduction axis\n",
    "ki = te.reduce_axis((0, env.BLOCK_IN), name=\"ki\")\n",
    "# Describe the in-VTA matrix multiplication\n",
    "C_buf = te.compute(\n",
    "    (o, m, env.BATCH, env.BLOCK_OUT),\n",
    "    lambda bo, co, bi, ci: te.sum(\n",
    "        A_buf[bo, ko, bi, ki].astype(env.acc_dtype) * B_buf[co, ko, ci, ki].astype(env.acc_dtype),\n",
    "        axis=[ko, ki],\n",
    "    ),\n",
    "    name=\"C_buf\",\n",
    ")"
   ]
  },
  {
   "cell_type": "markdown",
   "metadata": {},
   "source": [
    "### Casting the Results\n",
    "After the computation is done, we'll need to send the results computed by VTA\n",
    "back to main memory.\n",
    "\n"
   ]
  },
  {
   "cell_type": "markdown",
   "metadata": {},
   "source": [
    "<div class=\"alert alert-info\"><h4>Note</h4><p>**Memory Store Restrictions**\n",
    "\n",
    "  One specificity of VTA is that it only supports DRAM stores in the narrow\n",
    "  :code:`env.inp_dtype` data type format.\n",
    "  This lets us reduce the data footprint for memory transfers, but also lets\n",
    "  us quantize the wide accumulator data type down to a data format that\n",
    "  matches the input activation data type.\n",
    "  This means that in the context of neural network inference, the outputs\n",
    "  of a given layer after activation can be consumed directly by the next\n",
    "  layer.</p></div>\n",
    "\n",
    "We perform one last typecast operation to the narrow\n",
    "input activation data format.\n",
    "\n"
   ]
  },
  {
   "cell_type": "code",
   "execution_count": 6,
   "metadata": {},
   "outputs": [],
   "source": [
    "# Cast to output type, and send to main memory\n",
    "C = te.compute(\n",
    "    (o, m, env.BATCH, env.BLOCK_OUT), lambda *i: C_buf(*i).astype(env.inp_dtype), name=\"C\"\n",
    ")"
   ]
  },
  {
   "cell_type": "markdown",
   "metadata": {},
   "source": [
    "This concludes the computation declaration part of this tutorial.\n",
    "\n"
   ]
  },
  {
   "cell_type": "markdown",
   "metadata": {},
   "source": [
    "## Scheduling the Computation\n",
    "While the above lines describes the computation rule, we can obtain\n",
    ":code:`C` in many ways.\n",
    "TVM asks the user to provide an implementation of the computation called\n",
    "*schedule*.\n",
    "\n",
    "A schedule is a set of transformations to an original computation that\n",
    "transforms the implementation of the computation without affecting\n",
    "correctness.\n",
    "This simple VTA programming tutorial aims to demonstrate basic schedule\n",
    "transformations that will map the original schedule down to VTA hardware\n",
    "primitives.\n",
    "\n"
   ]
  },
  {
   "cell_type": "markdown",
   "metadata": {},
   "source": [
    "### Default Schedule\n",
    "After we construct the schedule, by default the schedule computes\n",
    ":code:`C` in the following way:\n",
    "\n"
   ]
  },
  {
   "cell_type": "code",
   "execution_count": 7,
   "metadata": {},
   "outputs": [
    {
     "name": "stdout",
     "output_type": "stream",
     "text": [
      "primfn(A_1: handle, B_1: handle, C_1: handle) -> ()\n",
      "  attr = {\"global_symbol\": \"main\", \"tir.noalias\": True}\n",
      "  buffers = {C: Buffer(C_2: Pointer(int8), int8, [1, 16, 1, 16], []),\n",
      "             B: Buffer(B_2: Pointer(int8), int8, [16, 16, 16, 16], []),\n",
      "             A: Buffer(A_2: Pointer(int8), int8, [1, 16, 1, 16], [])}\n",
      "  buffer_map = {A_1: A, B_1: B, C_1: C} {\n",
      "  attr [A_buf: Pointer(int8)] \"storage_scope\" = \"global\";\n",
      "  allocate(A_buf, int8, [256]);\n",
      "  attr [B_buf: Pointer(int8)] \"storage_scope\" = \"global\";\n",
      "  allocate(B_buf, int8, [65536]);\n",
      "  attr [C_buf: Pointer(int32)] \"storage_scope\" = \"global\";\n",
      "  allocate(C_buf, int32, [256]) {\n",
      "    for (i1: int32, 0, 16) {\n",
      "      for (i3: int32, 0, 16) {\n",
      "        A_buf[((i1*16) + i3)] = (int8*)A_2[((i1*16) + i3)]\n",
      "      }\n",
      "    }\n",
      "    for (i0: int32, 0, 16) {\n",
      "      for (i1_1: int32, 0, 16) {\n",
      "        for (i2: int32, 0, 16) {\n",
      "          for (i3_1: int32, 0, 16) {\n",
      "            B_buf[((((i0*4096) + (i1_1*256)) + (i2*16)) + i3_1)] = (int8*)B_2[((((i0*4096) + (i1_1*256)) + (i2*16)) + i3_1)]\n",
      "          }\n",
      "        }\n",
      "      }\n",
      "    }\n",
      "    for (co: int32, 0, 16) {\n",
      "      for (ci: int32, 0, 16) {\n",
      "        C_buf[((co*16) + ci)] = 0\n",
      "        for (ko: int32, 0, 16) {\n",
      "          for (ki: int32, 0, 16) {\n",
      "            C_buf[((co*16) + ci)] = ((int32*)C_buf[((co*16) + ci)] + (cast(int32, (int8*)A_buf[((ko*16) + ki)])*cast(int32, (int8*)B_buf[((((co*4096) + (ko*256)) + (ci*16)) + ki)])))\n",
      "          }\n",
      "        }\n",
      "      }\n",
      "    }\n",
      "    for (i1_2: int32, 0, 16) {\n",
      "      for (i3_2: int32, 0, 16) {\n",
      "        C_2[((i1_2*16) + i3_2)] = cast(int8, (int32*)C_buf[((i1_2*16) + i3_2)])\n",
      "      }\n",
      "    }\n",
      "  }\n",
      "}\n",
      "\n",
      "\n"
     ]
    }
   ],
   "source": [
    "# Let's take a look at the generated schedule\n",
    "s = te.create_schedule(C.op)\n",
    "print(tvm.lower(s, [A, B, C], simple_mode=True))"
   ]
  },
  {
   "cell_type": "markdown",
   "metadata": {},
   "source": [
    "Although this schedule makes sense, it won't compile to VTA.\n",
    "In order to obtain correct code generation, we need to apply scheduling\n",
    "primitives and code annotation that will transform the schedule into\n",
    "one that can be directly lowered onto VTA hardware intrinsics.\n",
    "Those include:\n",
    "\n",
    " - DMA copy operations which will take globally-scoped tensors and copy\n",
    "   those into locally-scoped tensors.\n",
    " - Tensor operations that will perform the matrix multiplication.\n",
    "\n"
   ]
  },
  {
   "cell_type": "markdown",
   "metadata": {},
   "source": [
    "### Buffer Scopes\n",
    "First, we set the scope of the buffers to tell TVM that these buffers\n",
    "will be living in the VTA's on-chip SRAM caches.\n",
    "Below, we tell TVM that :code:`A_buf`, :code:`B_buf`, :code:`C_buf`\n",
    "will respectively live in VTA's on-chip input, weight and accumulator\n",
    "memory.\n",
    "\n"
   ]
  },
  {
   "cell_type": "markdown",
   "metadata": {},
   "source": [
    "<div class=\"alert alert-info\"><h4>Note</h4><p>**VTA's On-Chip SRAMs**\n",
    "\n",
    "  VTA has three different memory scopes, each corresponding to different\n",
    "  on-chip SRAM buffers.\n",
    "\n",
    "   - :code:`env.inp_scope`: Input buffer, which is a read-only SRAM buffer\n",
    "     that stores input matrices of shape :code:`(env.BATCH, env.BLOCK_IN)`\n",
    "     of type :code:`env.inp_dtype`. The input buffer contains\n",
    "     `2 ^ LOG_INP_BUFF_SIZE` matrix elements (as specified in the\n",
    "     :code:`vta_config.json` file).\n",
    "   - :code:`env.wgt_scope`: Weight buffer, which is a read-only SRAM buffer\n",
    "     that stores weight matrices of shape :code:`(env.BLOCK_OUT, env.BLOCK_IN)`\n",
    "     of type :code:`env.wgt_dtype`. The weight buffer contains\n",
    "     `2 ^ LOG_WGT_BUFF_SIZE` matrix elements.\n",
    "   - :code:`env.acc_scope`: Accumulator buffer, which is a read/write SRAM\n",
    "     buffer that stores accumulator matrices of shape\n",
    "     :code:`(env.BATCH, env.BLOCK_OUT)` of type :code:`env.acc_dtype`.\n",
    "     The accumulator buffer is VTA's general purpose register file: it holds\n",
    "     both intermediate results of convolutions and matrix multiplications\n",
    "     as well as intermediate results of pooling, batch normalization, and\n",
    "     activation layers. The accumulator buffer contains\n",
    "     `2 ^ LOG_ACC_BUFF_SIZE` matrix elements.</p></div>\n",
    "\n"
   ]
  },
  {
   "cell_type": "code",
   "execution_count": 8,
   "metadata": {},
   "outputs": [
    {
     "data": {
      "text/plain": [
       "stage(C_buf, compute(C_buf, body=[reduce(combiner=comm_reducer(result=[(x + y)], lhs=[x], rhs=[y], identity_element=[0]), source=[(int32(A_buf[bo, ko, bi, ki])*int32(B_buf[co, ko, ci, ki]))], init=[], axis=[iter_var(ko, range(min=0, ext=16)), iter_var(ki, range(min=0, ext=16))], where=(bool)1, value_index=0)], axis=[iter_var(bo, range(min=0, ext=1)), iter_var(co, range(min=0, ext=16)), iter_var(bi, range(min=0, ext=1)), iter_var(ci, range(min=0, ext=16))], reduce_axis=[iter_var(ko, range(min=0, ext=16)), iter_var(ki, range(min=0, ext=16))], tag=, attrs={}))"
      ]
     },
     "execution_count": 8,
     "metadata": {},
     "output_type": "execute_result"
    }
   ],
   "source": [
    "# Set the intermediate tensor's scope to VTA's on-chip buffers\n",
    "s[A_buf].set_scope(env.inp_scope)\n",
    "s[B_buf].set_scope(env.wgt_scope)\n",
    "s[C_buf].set_scope(env.acc_scope)"
   ]
  },
  {
   "cell_type": "markdown",
   "metadata": {},
   "source": [
    "### DMA Transfers\n",
    "We need to schedule DMA transfers to move data living in DRAM to\n",
    "and from the VTA on-chip buffers.\n",
    "This can be achieved using the :code:`compute_at` schedule primitive\n",
    "which nests the copying of the buffers into the computation loop\n",
    "that performs the matrix multiplication.\n",
    "\n",
    "We insert :code:`dma_copy` pragmas to indicate to the compiler\n",
    "that the copy operations will be performed in bulk via DMA,\n",
    "which is common in hardware accelerators.\n",
    "Finally, we print the temporary schedule to observe the effects of\n",
    "moving the copy operations into the matrix multiplication loop.\n",
    "\n"
   ]
  },
  {
   "cell_type": "code",
   "execution_count": 9,
   "metadata": {},
   "outputs": [
    {
     "name": "stdout",
     "output_type": "stream",
     "text": [
      "primfn(A_1: handle, B_1: handle, C_1: handle) -> ()\n",
      "  attr = {\"global_symbol\": \"main\", \"tir.noalias\": True}\n",
      "  buffers = {C: Buffer(C_2: Pointer(int8), int8, [1, 16, 1, 16], []),\n",
      "             B: Buffer(B_2: Pointer(int8), int8, [16, 16, 16, 16], []),\n",
      "             A: Buffer(A_2: Pointer(int8), int8, [1, 16, 1, 16], [])}\n",
      "  buffer_map = {A_1: A, B_1: B, C_1: C} {\n",
      "  attr [C_buf: Pointer(int32)] \"storage_scope\" = \"local.acc_buffer\";\n",
      "  allocate(C_buf, int32, [256]);\n",
      "  attr [A_buf: Pointer(int8)] \"storage_scope\" = \"local.inp_buffer\";\n",
      "  allocate(A_buf, int8, [16]);\n",
      "  attr [B_buf: Pointer(int8)] \"storage_scope\" = \"local.wgt_buffer\";\n",
      "  allocate(B_buf, int8, [16]) {\n",
      "    for (co: int32, 0, 16) {\n",
      "      for (ci: int32, 0, 16) {\n",
      "        C_buf[((co*16) + ci)] = 0\n",
      "        for (ko: int32, 0, 16) {\n",
      "          attr [IterVar(i0: int32, (nullptr), \"DataPar\", \"\")] \"pragma_dma_copy\" = 1;\n",
      "          for (i3: int32, 0, 16) {\n",
      "            A_buf[i3] = (int8*)A_2[((ko*16) + i3)]\n",
      "          }\n",
      "          attr [IterVar(i0_1: int32, (nullptr), \"DataPar\", \"\")] \"pragma_dma_copy\" = 1;\n",
      "          for (i3_1: int32, 0, 16) {\n",
      "            B_buf[i3_1] = (int8*)B_2[((((co*4096) + (ko*256)) + (ci*16)) + i3_1)]\n",
      "          }\n",
      "          for (ki: int32, 0, 16) {\n",
      "            C_buf[((co*16) + ci)] = ((int32*)C_buf[((co*16) + ci)] + (cast(int32, (int8*)A_buf[ki])*cast(int32, (int8*)B_buf[ki])))\n",
      "          }\n",
      "        }\n",
      "      }\n",
      "    }\n",
      "    attr [IterVar(i0_2: int32, (nullptr), \"DataPar\", \"\")] \"pragma_dma_copy\" = 1;\n",
      "    for (i1: int32, 0, 16) {\n",
      "      for (i3_2: int32, 0, 16) {\n",
      "        C_2[((i1*16) + i3_2)] = cast(int8, (int32*)C_buf[((i1*16) + i3_2)])\n",
      "      }\n",
      "    }\n",
      "  }\n",
      "}\n",
      "\n",
      "\n"
     ]
    }
   ],
   "source": [
    "# Move buffer copy into matrix multiply loop\n",
    "s[A_buf].compute_at(s[C_buf], ko)\n",
    "s[B_buf].compute_at(s[C_buf], ko)\n",
    "\n",
    "# Tag the buffer copies with the DMA pragma to insert a DMA transfer\n",
    "s[A_buf].pragma(s[A_buf].op.axis[0], env.dma_copy)\n",
    "s[B_buf].pragma(s[B_buf].op.axis[0], env.dma_copy)\n",
    "s[C].pragma(s[C].op.axis[0], env.dma_copy)\n",
    "\n",
    "# Let's take a look at the transformed schedule\n",
    "print(tvm.lower(s, [A, B, C], simple_mode=True))"
   ]
  },
  {
   "cell_type": "markdown",
   "metadata": {},
   "source": [
    "### Tensorization\n",
    "The last step of the schedule transformation consists in applying\n",
    "*tensorization* to our schedule.\n",
    "Tensorization is analogous to vectorization, but extends the concept\n",
    "to a higher-dimensional unit of computation.\n",
    "Consequently, tensorization imposes data layout constraints as discussed\n",
    "earlier when declaring the data layout input placeholders.\n",
    "We've already arranged our tensors in a tiled format, so the next thing\n",
    "we need to perform is loop reordering to accommodate for tensorization.\n",
    "\n",
    "Here we choose to move the outermost reduction axis all the way out.\n",
    "This dictates that we first iterate over input channels, then batch\n",
    "dimensions, and finally output channels.\n",
    "Lastly, we apply the tensorization scheduling primitive :code:`tensorize`\n",
    "along the outer axis of the inner-most matrix matrix multiplication tensor\n",
    "block.\n",
    "We print the finalized schedule that is ready for code-generation\n",
    "by the VTA runtime JIT compiler.\n",
    "\n"
   ]
  },
  {
   "cell_type": "code",
   "execution_count": 10,
   "metadata": {},
   "outputs": [
    {
     "name": "stdout",
     "output_type": "stream",
     "text": [
      "primfn(A_1: handle, B_1: handle, C_1: handle) -> ()\n",
      "  attr = {\"global_symbol\": \"main\", \"tir.noalias\": True}\n",
      "  buffers = {B: Buffer(B_2: Pointer(int8), int8, [16, 16, 16, 16], []),\n",
      "             C: Buffer(C_2: Pointer(int8), int8, [1, 16, 1, 16], []),\n",
      "             A: Buffer(A_2: Pointer(int8), int8, [1, 16, 1, 16], [])}\n",
      "  buffer_map = {A_1: A, B_1: B, C_1: C} {\n",
      "  attr [C_buf: Pointer(int32)] \"storage_scope\" = \"local.acc_buffer\";\n",
      "  attr [A_buf: Pointer(int8)] \"storage_scope\" = \"local.inp_buffer\";\n",
      "  attr [B_buf: Pointer(int8)] \"storage_scope\" = \"local.wgt_buffer\" {\n",
      "    attr [IterVar(vta: int32, (nullptr), \"ThreadIndex\", \"vta\")] \"coproc_scope\" = 2 {\n",
      "      attr [IterVar(vta, (nullptr), \"ThreadIndex\", \"vta\")] \"coproc_uop_scope\" = \"VTAPushGEMMOp\" {\n",
      "        @tir.call_extern(\"VTAUopLoopBegin\", 16, 1, 0, 0, dtype=int32)\n",
      "        @tir.vta.uop_push(0, 1, 0, 0, 0, 0, 0, 0, dtype=int32)\n",
      "        @tir.call_extern(\"VTAUopLoopEnd\", dtype=int32)\n",
      "      }\n",
      "      @tir.vta.coproc_dep_push(2, 1, dtype=int32)\n",
      "    }\n",
      "    for (ko: int32, 0, 16) {\n",
      "      attr [IterVar(vta, (nullptr), \"ThreadIndex\", \"vta\")] \"coproc_scope\" = 1 {\n",
      "        @tir.vta.coproc_dep_pop(2, 1, dtype=int32)\n",
      "        @tir.call_extern(\"VTALoadBuffer2D\", @tir.tvm_thread_context(@tir.vta.command_handle(, dtype=handle), dtype=handle), A_2, ko, 1, 1, 1, 0, 0, 0, 0, 0, 0, 2, dtype=int32)\n",
      "        @tir.call_extern(\"VTALoadBuffer2D\", @tir.tvm_thread_context(@tir.vta.command_handle(, dtype=handle), dtype=handle), B_2, ko, 1, 16, 16, 0, 0, 0, 0, 0, 0, 1, dtype=int32)\n",
      "        @tir.vta.coproc_dep_push(1, 2, dtype=int32)\n",
      "      }\n",
      "      attr [IterVar(vta, (nullptr), \"ThreadIndex\", \"vta\")] \"coproc_scope\" = 2 {\n",
      "        @tir.vta.coproc_dep_pop(1, 2, dtype=int32)\n",
      "        attr [IterVar(vta, (nullptr), \"ThreadIndex\", \"vta\")] \"coproc_uop_scope\" = \"VTAPushGEMMOp\" {\n",
      "          @tir.call_extern(\"VTAUopLoopBegin\", 16, 1, 0, 1, dtype=int32)\n",
      "          @tir.vta.uop_push(0, 0, 0, 0, 0, 0, 0, 0, dtype=int32)\n",
      "          @tir.call_extern(\"VTAUopLoopEnd\", dtype=int32)\n",
      "        }\n",
      "        @tir.vta.coproc_dep_push(2, 1, dtype=int32)\n",
      "      }\n",
      "    }\n",
      "    @tir.vta.coproc_dep_push(2, 3, dtype=int32)\n",
      "    @tir.vta.coproc_dep_pop(2, 1, dtype=int32)\n",
      "    attr [IterVar(vta, (nullptr), \"ThreadIndex\", \"vta\")] \"coproc_scope\" = 3 {\n",
      "      @tir.vta.coproc_dep_pop(2, 3, dtype=int32)\n",
      "      @tir.call_extern(\"VTAStoreBuffer2D\", @tir.tvm_thread_context(@tir.vta.command_handle(, dtype=handle), dtype=handle), 0, 4, C_2, 0, 16, 1, 16, dtype=int32)\n",
      "    }\n",
      "    @tir.vta.coproc_sync(, dtype=int32)\n",
      "  }\n",
      "}\n",
      "\n",
      "\n"
     ]
    }
   ],
   "source": [
    "s[C_buf].reorder(\n",
    "    ko, s[C_buf].op.axis[0], s[C_buf].op.axis[1], s[C_buf].op.axis[2], s[C_buf].op.axis[3], ki\n",
    ")\n",
    "s[C_buf].tensorize(s[C_buf].op.axis[2], env.gemm)\n",
    "\n",
    "# Let's take a look at the finalized schedule\n",
    "print(vta.lower(s, [A, B, C], simple_mode=True))"
   ]
  },
  {
   "cell_type": "markdown",
   "metadata": {},
   "source": [
    "This concludes the scheduling portion of this tutorial.\n",
    "\n"
   ]
  },
  {
   "cell_type": "markdown",
   "metadata": {},
   "source": [
    "## TVM Compilation\n",
    "After we have finished specifying the schedule, we can compile it\n",
    "into a TVM function.\n",
    "\n"
   ]
  },
  {
   "cell_type": "code",
   "execution_count": 11,
   "metadata": {},
   "outputs": [
    {
     "name": "stdout",
     "output_type": "stream",
     "text": [
      "Help on function build in module vta.build_module:\n",
      "\n",
      "build(*args, **kwargs)\n",
      "    Thin wrapper of tvm.build\n",
      "    \n",
      "    This wrapper automatically applies VTA's build_config\n",
      "    if there is no user specified build_config in context.\n",
      "    \n",
      "    See Also\n",
      "    --------\n",
      "    tvm.build : The original TVM's build function\n",
      "\n"
     ]
    }
   ],
   "source": [
    "help(vta.build)"
   ]
  },
  {
   "cell_type": "code",
   "execution_count": 13,
   "metadata": {},
   "outputs": [
    {
     "data": {
      "text/plain": [
       "'llvm -mtriple=armv7-none-linux-gnueabihf'"
      ]
     },
     "execution_count": 13,
     "metadata": {},
     "output_type": "execute_result"
    }
   ],
   "source": [
    "env.target_host"
   ]
  },
  {
   "cell_type": "code",
   "execution_count": 15,
   "metadata": {},
   "outputs": [],
   "source": [
    "# Build GEMM VTA kernel\n",
    "my_gemm = vta.build(\n",
    "    s, [A, B, C], target=env.target, target_host=env.target_host, name=\"my_gemm\"\n",
    ")\n",
    "\n",
    "# Write the compiled module into an object file.\n",
    "temp = utils.tempdir()\n",
    "my_gemm.save(temp.relpath(\"gemm.o\"))\n",
    "\n",
    "# Send the executable over RPC\n",
    "remote.upload(temp.relpath(\"gemm.o\"))\n",
    "\n",
    "# Load the compiled module\n",
    "f = remote.load_module(\"gemm.o\")"
   ]
  },
  {
   "cell_type": "markdown",
   "metadata": {},
   "source": [
    "## Running the Function\n",
    "The compiled TVM function uses a concise C API and can be invoked from\n",
    "code language.\n",
    "\n",
    "TVM provides an array API in python to aid quick testing and prototyping.\n",
    "The array API is based on [DLPack](https://github.com/dmlc/dlpack) standard.\n",
    "\n",
    "- We first create a remote context (for remote execution on the Pynq).\n",
    "- Then :code:`tvm.nd.array` formats the data accordingly.\n",
    "- :code:`f()` runs the actual computation.\n",
    "- :code:`numpy()` copies the result array back in a format that can be\n",
    "  interpreted.\n",
    "\n",
    "\n"
   ]
  },
  {
   "cell_type": "code",
   "execution_count": 580,
   "metadata": {},
   "outputs": [],
   "source": [
    "# Get the remote device context\n",
    "ctx = remote.ext_dev(0)\n",
    "\n",
    "# Initialize the A and B arrays randomly in the int range of (-128, 128]\n",
    "A_orig = np.random.randint(-128, 128, size=(o * env.BATCH, n * env.BLOCK_IN)).astype(A.dtype)\n",
    "B_orig = np.random.randint(-128, 128, size=(m * env.BLOCK_OUT, n * env.BLOCK_IN)).astype(B.dtype)\n",
    "\n",
    "# Apply packing to the A and B arrays from a 2D to a 4D packed layout\n",
    "A_packed = A_orig.reshape(o, env.BATCH, n, env.BLOCK_IN).transpose((0, 2, 1, 3))\n",
    "B_packed = B_orig.reshape(m, env.BLOCK_OUT, n, env.BLOCK_IN).transpose((0, 2, 1, 3))\n",
    "\n",
    "# Format the input/output arrays with tvm.nd.array to the DLPack standard\n",
    "A_nd = tvm.nd.array(A_packed, ctx)\n",
    "B_nd = tvm.nd.array(B_packed, ctx)\n",
    "C_nd = tvm.nd.array(np.zeros((o, m, env.BATCH, env.BLOCK_OUT)).astype(C.dtype), ctx)\n",
    "\n",
    "# Clear stats\n",
    "if env.TARGET in [\"sim\", \"tsim\"]:\n",
    "    simulator.clear_stats()\n",
    "\n",
    "# Invoke the module to perform the computation\n",
    "f(A_nd, B_nd, C_nd)"
   ]
  },
  {
   "cell_type": "markdown",
   "metadata": {},
   "source": [
    "## Verifying Correctness\n",
    "Compute the reference result with numpy and assert that the output of the\n",
    "matrix multiplication indeed is correct\n",
    "\n"
   ]
  },
  {
   "cell_type": "code",
   "execution_count": 14,
   "metadata": {},
   "outputs": [
    {
     "name": "stdout",
     "output_type": "stream",
     "text": [
      "Successful matrix multiply test!\n"
     ]
    }
   ],
   "source": [
    "# Compute reference result with numpy\n",
    "C_ref = np.dot(A_orig.astype(env.acc_dtype), B_orig.T.astype(env.acc_dtype)).astype(C.dtype)\n",
    "C_ref = C_ref.reshape(o, env.BATCH, m, env.BLOCK_OUT).transpose((0, 2, 1, 3))\n",
    "np.testing.assert_equal(C_ref, C_nd.asnumpy())\n",
    "\n",
    "# Print stats\n",
    "if env.TARGET in [\"sim\", \"tsim\"]:\n",
    "    sim_stats = simulator.stats()\n",
    "    print(\"Execution statistics:\")\n",
    "    for k, v in sim_stats.items():\n",
    "        print(\"\\t{:<16}: {:>16}\".format(k, v))\n",
    "\n",
    "print(\"Successful matrix multiply test!\")"
   ]
  },
  {
   "cell_type": "markdown",
   "metadata": {},
   "source": [
    "## Summary\n",
    "This tutorial showcases the TVM workflow to implement a simple matrix\n",
    "multiplication example on VTA.\n",
    "The general workflow includes:\n",
    "\n",
    "- Programming the FPGA with the VTA bitstream over RPC.\n",
    "- Describing matrix multiplication via a series of computations.\n",
    "- Describing how we want to perform the computation using schedule primitives.\n",
    "- Compiling the function to the VTA target.\n",
    "- Running the compiled module and verifying it against a numpy implementation.\n",
    "\n",
    "\n"
   ]
  }
 ],
 "metadata": {
  "kernelspec": {
   "display_name": "Python [conda env:tvm-build-il-2] *",
   "language": "python",
   "name": "conda-env-tvm-build-il-2-py"
  },
  "language_info": {
   "codemirror_mode": {
    "name": "ipython",
    "version": 3
   },
   "file_extension": ".py",
   "mimetype": "text/x-python",
   "name": "python",
   "nbconvert_exporter": "python",
   "pygments_lexer": "ipython3",
   "version": "3.8.13"
  }
 },
 "nbformat": 4,
 "nbformat_minor": 1
}
