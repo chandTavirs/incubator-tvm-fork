{
 "cells": [
  {
   "cell_type": "code",
   "execution_count": 1,
   "id": "0c3efb35",
   "metadata": {},
   "outputs": [],
   "source": [
    "from collections import namedtuple"
   ]
  },
  {
   "cell_type": "code",
   "execution_count": 7,
   "id": "9c3d6486",
   "metadata": {},
   "outputs": [],
   "source": [
    "Workload = namedtuple(\n",
    "    \"Conv2DWorkload\",\n",
    "    [\n",
    "        \"batch\",\n",
    "        \"height\",\n",
    "        \"width\",\n",
    "        \"in_filter\",\n",
    "        \"out_filter\",\n",
    "        \"hkernel\",\n",
    "        \"wkernel\",\n",
    "        \"hpad\",\n",
    "        \"wpad\",\n",
    "        \"hstride\",\n",
    "        \"wstride\",\n",
    "    ],\n",
    ")\n",
    "\n",
    "maxPoolConfig = namedtuple(\n",
    "    \"MaxPool2DConfig\",\n",
    "    [\n",
    "        \"hkernel\",\n",
    "        \"wkernel\",\n",
    "        \"hpad\",\n",
    "        \"wpad\",\n",
    "        \"hstride\",\n",
    "        \"wstride\",\n",
    "        \"ceil_mode\"\n",
    "    ],\n",
    ")\n",
    "\n",
    "batchNormConfig = namedtuple(\n",
    "    \"BatchNorm2DConfig\",\n",
    "    [\n",
    "        \"num_filters\"\n",
    "    ]\n",
    ")\n",
    "\n",
    "reluConfig = namedtuple(\n",
    "    \"ReluConfig\",\n",
    "    [\n",
    "        \"num_filters\"\n",
    "    ]\n",
    ")"
   ]
  },
  {
   "cell_type": "code",
   "execution_count": 3,
   "id": "1463c1cb",
   "metadata": {},
   "outputs": [],
   "source": [
    "a = \"[Conv2DWorkload(batch=1, height=224, width=224, in_filter=64, out_filter=64, hkernel=3, wkernel=3, hpad=1, wpad=1, hstride=1, wstride=1), ReluConfig(num_filters=64), Conv2DWorkload(batch=1, height=224, width=224, in_filter=64, out_filter=64, hkernel=3, wkernel=3, hpad=1, wpad=1, hstride=1, wstride=1), ReluConfig(num_filters=64), Conv2DWorkload(batch=1, height=224, width=224, in_filter=64, out_filter=64, hkernel=3, wkernel=3, hpad=1, wpad=1, hstride=1, wstride=1), ReluConfig(num_filters=64), Conv2DWorkload(batch=1, height=224, width=224, in_filter=64, out_filter=64, hkernel=3, wkernel=3, hpad=1, wpad=1, hstride=1, wstride=1), ReluConfig(num_filters=64)]\""
   ]
  },
  {
   "cell_type": "code",
   "execution_count": 8,
   "id": "b587b243",
   "metadata": {},
   "outputs": [
    {
     "ename": "NameError",
     "evalue": "name 'Conv2DWorkload' is not defined",
     "output_type": "error",
     "traceback": [
      "\u001b[0;31m---------------------------------------------------------------------------\u001b[0m",
      "\u001b[0;31mNameError\u001b[0m                                 Traceback (most recent call last)",
      "Input \u001b[0;32mIn [8]\u001b[0m, in \u001b[0;36m<cell line: 1>\u001b[0;34m()\u001b[0m\n\u001b[0;32m----> 1\u001b[0m a \u001b[38;5;241m=\u001b[39m [\u001b[43mConv2DWorkload\u001b[49m(batch\u001b[38;5;241m=\u001b[39m\u001b[38;5;241m1\u001b[39m, height\u001b[38;5;241m=\u001b[39m\u001b[38;5;241m28\u001b[39m, width\u001b[38;5;241m=\u001b[39m\u001b[38;5;241m28\u001b[39m, in_filter\u001b[38;5;241m=\u001b[39m\u001b[38;5;241m512\u001b[39m, out_filter\u001b[38;5;241m=\u001b[39m\u001b[38;5;241m1024\u001b[39m, hkernel\u001b[38;5;241m=\u001b[39m\u001b[38;5;241m1\u001b[39m, wkernel\u001b[38;5;241m=\u001b[39m\u001b[38;5;241m1\u001b[39m, hpad\u001b[38;5;241m=\u001b[39m\u001b[38;5;241m0\u001b[39m, wpad\u001b[38;5;241m=\u001b[39m\u001b[38;5;241m0\u001b[39m, hstride\u001b[38;5;241m=\u001b[39m\u001b[38;5;241m2\u001b[39m, wstride\u001b[38;5;241m=\u001b[39m\u001b[38;5;241m2\u001b[39m), BatchNorm2DConfig(num_filters\u001b[38;5;241m=\u001b[39m\u001b[38;5;241m1024\u001b[39m), ReluConfig(num_filters\u001b[38;5;241m=\u001b[39m\u001b[38;5;241m1024\u001b[39m), MaxPool2DConfig(hkernel\u001b[38;5;241m=\u001b[39m\u001b[38;5;241m2\u001b[39m, wkernel\u001b[38;5;241m=\u001b[39m\u001b[38;5;241m2\u001b[39m, hpad\u001b[38;5;241m=\u001b[39m\u001b[38;5;241m0\u001b[39m, wpad\u001b[38;5;241m=\u001b[39m\u001b[38;5;241m0\u001b[39m, hstride\u001b[38;5;241m=\u001b[39m\u001b[38;5;241m2\u001b[39m, wstride\u001b[38;5;241m=\u001b[39m\u001b[38;5;241m2\u001b[39m, ceil_mode\u001b[38;5;241m=\u001b[39m\u001b[38;5;241m1\u001b[39m), Conv2DWorkload(batch\u001b[38;5;241m=\u001b[39m\u001b[38;5;241m1\u001b[39m, height\u001b[38;5;241m=\u001b[39m\u001b[38;5;241m7\u001b[39m, width\u001b[38;5;241m=\u001b[39m\u001b[38;5;241m7\u001b[39m, in_filter\u001b[38;5;241m=\u001b[39m\u001b[38;5;241m1024\u001b[39m, out_filter\u001b[38;5;241m=\u001b[39m\u001b[38;5;241m1024\u001b[39m, hkernel\u001b[38;5;241m=\u001b[39m\u001b[38;5;241m3\u001b[39m, wkernel\u001b[38;5;241m=\u001b[39m\u001b[38;5;241m3\u001b[39m, hpad\u001b[38;5;241m=\u001b[39m\u001b[38;5;241m1\u001b[39m, wpad\u001b[38;5;241m=\u001b[39m\u001b[38;5;241m1\u001b[39m, hstride\u001b[38;5;241m=\u001b[39m\u001b[38;5;241m1\u001b[39m, wstride\u001b[38;5;241m=\u001b[39m\u001b[38;5;241m1\u001b[39m), BatchNorm2DConfig(num_filters\u001b[38;5;241m=\u001b[39m\u001b[38;5;241m1024\u001b[39m), Conv2DWorkload(batch\u001b[38;5;241m=\u001b[39m\u001b[38;5;241m1\u001b[39m, height\u001b[38;5;241m=\u001b[39m\u001b[38;5;241m7\u001b[39m, width\u001b[38;5;241m=\u001b[39m\u001b[38;5;241m7\u001b[39m, in_filter\u001b[38;5;241m=\u001b[39m\u001b[38;5;241m1024\u001b[39m, out_filter\u001b[38;5;241m=\u001b[39m\u001b[38;5;241m1024\u001b[39m, hkernel\u001b[38;5;241m=\u001b[39m\u001b[38;5;241m3\u001b[39m, wkernel\u001b[38;5;241m=\u001b[39m\u001b[38;5;241m3\u001b[39m, hpad\u001b[38;5;241m=\u001b[39m\u001b[38;5;241m1\u001b[39m, wpad\u001b[38;5;241m=\u001b[39m\u001b[38;5;241m1\u001b[39m, hstride\u001b[38;5;241m=\u001b[39m\u001b[38;5;241m1\u001b[39m, wstride\u001b[38;5;241m=\u001b[39m\u001b[38;5;241m1\u001b[39m), BatchNorm2DConfig(num_filters\u001b[38;5;241m=\u001b[39m\u001b[38;5;241m1024\u001b[39m), Conv2DWorkload(batch\u001b[38;5;241m=\u001b[39m\u001b[38;5;241m1\u001b[39m, height\u001b[38;5;241m=\u001b[39m\u001b[38;5;241m7\u001b[39m, width\u001b[38;5;241m=\u001b[39m\u001b[38;5;241m7\u001b[39m, in_filter\u001b[38;5;241m=\u001b[39m\u001b[38;5;241m1024\u001b[39m, out_filter\u001b[38;5;241m=\u001b[39m\u001b[38;5;241m1024\u001b[39m, hkernel\u001b[38;5;241m=\u001b[39m\u001b[38;5;241m3\u001b[39m, wkernel\u001b[38;5;241m=\u001b[39m\u001b[38;5;241m3\u001b[39m, hpad\u001b[38;5;241m=\u001b[39m\u001b[38;5;241m1\u001b[39m, wpad\u001b[38;5;241m=\u001b[39m\u001b[38;5;241m1\u001b[39m, hstride\u001b[38;5;241m=\u001b[39m\u001b[38;5;241m1\u001b[39m, wstride\u001b[38;5;241m=\u001b[39m\u001b[38;5;241m1\u001b[39m), BatchNorm2DConfig(num_filters\u001b[38;5;241m=\u001b[39m\u001b[38;5;241m1024\u001b[39m), Conv2DWorkload(batch\u001b[38;5;241m=\u001b[39m\u001b[38;5;241m1\u001b[39m, height\u001b[38;5;241m=\u001b[39m\u001b[38;5;241m7\u001b[39m, width\u001b[38;5;241m=\u001b[39m\u001b[38;5;241m7\u001b[39m, in_filter\u001b[38;5;241m=\u001b[39m\u001b[38;5;241m1024\u001b[39m, out_filter\u001b[38;5;241m=\u001b[39m\u001b[38;5;241m1024\u001b[39m, hkernel\u001b[38;5;241m=\u001b[39m\u001b[38;5;241m3\u001b[39m, wkernel\u001b[38;5;241m=\u001b[39m\u001b[38;5;241m3\u001b[39m, hpad\u001b[38;5;241m=\u001b[39m\u001b[38;5;241m1\u001b[39m, wpad\u001b[38;5;241m=\u001b[39m\u001b[38;5;241m1\u001b[39m, hstride\u001b[38;5;241m=\u001b[39m\u001b[38;5;241m2\u001b[39m, wstride\u001b[38;5;241m=\u001b[39m\u001b[38;5;241m2\u001b[39m), ReluConfig(num_filters\u001b[38;5;241m=\u001b[39m\u001b[38;5;241m1024\u001b[39m), MaxPool2DConfig(hkernel\u001b[38;5;241m=\u001b[39m\u001b[38;5;241m3\u001b[39m, wkernel\u001b[38;5;241m=\u001b[39m\u001b[38;5;241m3\u001b[39m, hpad\u001b[38;5;241m=\u001b[39m\u001b[38;5;241m1\u001b[39m, wpad\u001b[38;5;241m=\u001b[39m\u001b[38;5;241m1\u001b[39m, hstride\u001b[38;5;241m=\u001b[39m\u001b[38;5;241m2\u001b[39m, wstride\u001b[38;5;241m=\u001b[39m\u001b[38;5;241m2\u001b[39m, ceil_mode\u001b[38;5;241m=\u001b[39m\u001b[38;5;241m0\u001b[39m)]\n",
      "\u001b[0;31mNameError\u001b[0m: name 'Conv2DWorkload' is not defined"
     ]
    }
   ],
   "source": [
    "a = [Conv2DWorkload(batch=1, height=28, width=28, in_filter=512, out_filter=1024, hkernel=1, wkernel=1, hpad=0, wpad=0, hstride=2, wstride=2), BatchNorm2DConfig(num_filters=1024), ReluConfig(num_filters=1024), MaxPool2DConfig(hkernel=2, wkernel=2, hpad=0, wpad=0, hstride=2, wstride=2, ceil_mode=1), Conv2DWorkload(batch=1, height=7, width=7, in_filter=1024, out_filter=1024, hkernel=3, wkernel=3, hpad=1, wpad=1, hstride=1, wstride=1), BatchNorm2DConfig(num_filters=1024), Conv2DWorkload(batch=1, height=7, width=7, in_filter=1024, out_filter=1024, hkernel=3, wkernel=3, hpad=1, wpad=1, hstride=1, wstride=1), BatchNorm2DConfig(num_filters=1024), Conv2DWorkload(batch=1, height=7, width=7, in_filter=1024, out_filter=1024, hkernel=3, wkernel=3, hpad=1, wpad=1, hstride=1, wstride=1), BatchNorm2DConfig(num_filters=1024), Conv2DWorkload(batch=1, height=7, width=7, in_filter=1024, out_filter=1024, hkernel=3, wkernel=3, hpad=1, wpad=1, hstride=2, wstride=2), ReluConfig(num_filters=1024), MaxPool2DConfig(hkernel=3, wkernel=3, hpad=1, wpad=1, hstride=2, wstride=2, ceil_mode=0)]\n"
   ]
  },
  {
   "cell_type": "code",
   "execution_count": 13,
   "id": "4521f4b7",
   "metadata": {},
   "outputs": [
    {
     "name": "stdout",
     "output_type": "stream",
     "text": [
      "0 1 5 9 13\n",
      "1 2 6 10 14\n",
      "2 3 7 11 15\n",
      "3 4 8 12 16\n"
     ]
    }
   ],
   "source": [
    "a = [1,2,3,4]\n",
    "b = [5,6,7,8]\n",
    "c = [9,10,11,12]\n",
    "d = [13,14,15,16]\n",
    "\n",
    "for i, (w,x,y,z) in enumerate(zip(a,b,c,d)):\n",
    "    print(i, w,x,y,z)\n"
   ]
  },
  {
   "cell_type": "code",
   "execution_count": 3,
   "id": "936475f8",
   "metadata": {},
   "outputs": [],
   "source": [
    "a = Workload(1,2,3,4,5,6,7,8,9,10,11)"
   ]
  },
  {
   "cell_type": "code",
   "execution_count": null,
   "id": "8d8657a8",
   "metadata": {},
   "outputs": [],
   "source": []
  },
  {
   "cell_type": "code",
   "execution_count": 17,
   "id": "6543ae94",
   "metadata": {},
   "outputs": [
    {
     "data": {
      "text/plain": [
       "'Conv2DWorkload'"
      ]
     },
     "execution_count": 17,
     "metadata": {},
     "output_type": "execute_result"
    }
   ],
   "source": [
    "Workload.__name__"
   ]
  },
  {
   "cell_type": "code",
   "execution_count": 8,
   "id": "8ab1853b",
   "metadata": {},
   "outputs": [
    {
     "ename": "NameError",
     "evalue": "name '__main__' is not defined",
     "output_type": "error",
     "traceback": [
      "\u001b[0;31m---------------------------------------------------------------------------\u001b[0m",
      "\u001b[0;31mNameError\u001b[0m                                 Traceback (most recent call last)",
      "Input \u001b[0;32mIn [8]\u001b[0m, in \u001b[0;36m<cell line: 1>\u001b[0;34m()\u001b[0m\n\u001b[0;32m----> 1\u001b[0m \u001b[38;5;28misinstance\u001b[39m(a, \u001b[43m__main__\u001b[49m\u001b[38;5;241m.\u001b[39mConv2DWorkload)\n",
      "\u001b[0;31mNameError\u001b[0m: name '__main__' is not defined"
     ]
    }
   ],
   "source": [
    "isinstance(a, __main__.Conv2DWorkload)"
   ]
  },
  {
   "cell_type": "code",
   "execution_count": null,
   "id": "36e25df0",
   "metadata": {},
   "outputs": [],
   "source": []
  }
 ],
 "metadata": {
  "kernelspec": {
   "display_name": "Python 3 (ipykernel)",
   "language": "python",
   "name": "python3"
  },
  "language_info": {
   "codemirror_mode": {
    "name": "ipython",
    "version": 3
   },
   "file_extension": ".py",
   "mimetype": "text/x-python",
   "name": "python",
   "nbconvert_exporter": "python",
   "pygments_lexer": "ipython3",
   "version": "3.8.13"
  }
 },
 "nbformat": 4,
 "nbformat_minor": 5
}
