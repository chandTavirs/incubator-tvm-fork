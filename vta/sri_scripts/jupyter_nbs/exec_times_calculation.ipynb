{
 "cells": [
  {
   "cell_type": "code",
   "execution_count": 1,
   "id": "1db9667e",
   "metadata": {},
   "outputs": [],
   "source": [
    "means_vta_axi_uart_trojan_on = []\n",
    "means_vta_axi_uart_trojan_off = []\n",
    "means_vta_plain = []\n",
    "# means_vta_ro_trojan_enabled_no_poll = []\n",
    "# means_vta_ro_trojan_enabled_with_poll =[]\n",
    "\n",
    "\n",
    "with open(\"power_recordings/vta_ro_uart_working_trigger_off_resnet10x100.txt\", 'r') as myfile:\n",
    "    lines = myfile.readlines()\n",
    "    for line in lines:\n",
    "        means_vta_axi_uart_trojan_off.append(float(line))\n",
    "\n",
    "with open(\"power_recordings/vta_ro_uart_working_trigger_on_resnet10x100.txt\", 'r') as myfile:\n",
    "    lines = myfile.readlines()\n",
    "    for line in lines:\n",
    "        means_vta_axi_uart_trojan_on.append(float(line))\n",
    "        \n",
    "with open(\"power_recordings/vta_plain_resnet10x100.txt\", 'r') as myfile:\n",
    "    lines = myfile.readlines()\n",
    "    for line in lines:\n",
    "        means_vta_plain.append(float(line))\n",
    "\n",
    "# with open(\"power_recordings/resnet_18_mean_exec_times_vta_ro_trojan_enabled_no_poll_100x10.txt\", 'r') as myfile:\n",
    "#     lines = myfile.readlines()\n",
    "#     for line in lines:\n",
    "#         means_vta_ro_trojan_enabled_no_poll.append(float(line))\n",
    "        \n",
    "# with open(\"power_recordings/resnet_18_mean_exec_times_vta_ro_trojan_enabled_with_poll_100x10.txt\", 'r') as myfile:\n",
    "#     lines = myfile.readlines()\n",
    "#     for line in lines:\n",
    "#         means_vta_ro_trojan_enabled_with_poll.append(float(line))"
   ]
  },
  {
   "cell_type": "code",
   "execution_count": 2,
   "id": "e54ca59a",
   "metadata": {},
   "outputs": [],
   "source": [
    "import pandas as pd\n",
    "\n",
    "df1 = pd.DataFrame({\"Means\":means_vta_plain})\n",
    "df2 = pd.DataFrame({\"Means\":means_vta_axi_uart_trojan_off})\n",
    "df3 = pd.DataFrame({\"Means\":means_vta_axi_uart_trojan_on})\n",
    "\n",
    "# df2 = pd.DataFrame({\"Means\":means_vta_ro_trojan_enabled_no_poll})\n",
    "# df3 = pd.DataFrame({\"Means\":means_vta_ro_trojan_enabled_with_poll})"
   ]
  },
  {
   "cell_type": "code",
   "execution_count": 3,
   "id": "41510eee",
   "metadata": {},
   "outputs": [],
   "source": [
    "df_overall_vta_plain = pd.DataFrame({\"Mean\": df1['Means'].mean(), \"STD\": df1['Means'].std()}, index=[0])\n",
    "df_overall_vta_axi_uart_trojan_off = pd.DataFrame({\"Mean\": df2['Means'].mean(), \"STD\": df2['Means'].std()}, index=[0])\n",
    "df_overall_vta_axi_uart_trojan_on = pd.DataFrame({\"Mean\": df3['Means'].mean(), \"STD\": df3['Means'].std()}, index=[0])\n",
    "\n",
    "# df_overall_vta_ro_trojan_enabled_no_poll = pd.DataFrame({\"Mean\": df2['Means'].mean(), \"STD\": df2['Means'].std()}, index=[0])\n",
    "# df_overall_vta_ro_trojan_enabled_with_poll = pd.DataFrame({\"Mean\": df3['Means'].mean(), \"STD\": df3['Means'].std()}, index=[0])"
   ]
  },
  {
   "cell_type": "code",
   "execution_count": 6,
   "id": "870a9cc9",
   "metadata": {},
   "outputs": [
    {
     "data": {
      "text/html": [
       "<div>\n",
       "<style scoped>\n",
       "    .dataframe tbody tr th:only-of-type {\n",
       "        vertical-align: middle;\n",
       "    }\n",
       "\n",
       "    .dataframe tbody tr th {\n",
       "        vertical-align: top;\n",
       "    }\n",
       "\n",
       "    .dataframe thead th {\n",
       "        text-align: right;\n",
       "    }\n",
       "</style>\n",
       "<table border=\"1\" class=\"dataframe\">\n",
       "  <thead>\n",
       "    <tr style=\"text-align: right;\">\n",
       "      <th></th>\n",
       "      <th>Mean</th>\n",
       "      <th>STD</th>\n",
       "    </tr>\n",
       "  </thead>\n",
       "  <tbody>\n",
       "    <tr>\n",
       "      <th>0</th>\n",
       "      <td>55.762549</td>\n",
       "      <td>1.114296</td>\n",
       "    </tr>\n",
       "  </tbody>\n",
       "</table>\n",
       "</div>"
      ],
      "text/plain": [
       "        Mean       STD\n",
       "0  55.762549  1.114296"
      ]
     },
     "execution_count": 6,
     "metadata": {},
     "output_type": "execute_result"
    }
   ],
   "source": [
    "df_overall_vta_axi_uart_trojan_on"
   ]
  },
  {
   "cell_type": "code",
   "execution_count": null,
   "id": "5d009e0f",
   "metadata": {},
   "outputs": [],
   "source": []
  }
 ],
 "metadata": {
  "kernelspec": {
   "display_name": "Python [conda env:tvm-build-il-2] *",
   "language": "python",
   "name": "conda-env-tvm-build-il-2-py"
  },
  "language_info": {
   "codemirror_mode": {
    "name": "ipython",
    "version": 3
   },
   "file_extension": ".py",
   "mimetype": "text/x-python",
   "name": "python",
   "nbconvert_exporter": "python",
   "pygments_lexer": "ipython3",
   "version": "3.8.13"
  }
 },
 "nbformat": 4,
 "nbformat_minor": 5
}
