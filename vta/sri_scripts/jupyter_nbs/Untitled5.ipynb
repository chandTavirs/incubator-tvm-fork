{
 "cells": [
  {
   "cell_type": "code",
   "execution_count": 1,
   "id": "1af9f483",
   "metadata": {},
   "outputs": [],
   "source": [
    "import json\n",
    "import pandas as pd"
   ]
  },
  {
   "cell_type": "code",
   "execution_count": null,
   "id": "dd163f24",
   "metadata": {},
   "outputs": [],
   "source": [
    "network = \"[Conv2DWorkload(batch=1, height=112, width=112, in_filter=32, out_filter=32, hkernel=3, wkernel=3, hpad=1, wpad=1, hstride=2, wstride=2), Conv2DWorkload(batch=1, height=56, width=56, in_filter=32, out_filter=32, hkernel=1, wkernel=1, hpad=0, wpad=0, hstride=1, wstride=1), Conv2DWorkload(batch=1, height=56, width=56, in_filter=32, out_filter=64, hkernel=1, wkernel=1, hpad=0, wpad=0, hstride=2, wstride=2), ReluConfig(num_filters=64), Conv2DWorkload(batch=1, height=28, width=28, in_filter=64, out_filter=64, hkernel=1, wkernel=1, hpad=0, wpad=0, hstride=1, wstride=1), ReluConfig(num_filters=64), Conv2DWorkload(batch=1, height=28, width=28, in_filter=64, out_filter=160, hkernel=1, wkernel=1, hpad=0, wpad=0, hstride=2, wstride=2), Conv2DWorkload(batch=1, height=14, width=14, in_filter=160, out_filter=400, hkernel=1, wkernel=1, hpad=0, wpad=0, hstride=1, wstride=1), BatchNorm2DConfig(num_filters=400), MaxPool2DConfig(hkernel=3, wkernel=3, hpad=0, wpad=0, hstride=2, wstride=2, ceil_mode=1), Conv2DWorkload(batch=1, height=7, width=7, in_filter=400, out_filter=400, hkernel=3, wkernel=3, hpad=1, wpad=1, hstride=1, wstride=1), ReluConfig(num_filters=400), Conv2DWorkload(batch=1, height=7, width=7, in_filter=400, out_filter=400, hkernel=3, wkernel=3, hpad=1, wpad=1, hstride=1, wstride=1), ReluConfig(num_filters=400), MaxPool2DConfig(hkernel=3, wkernel=3, hpad=0, wpad=0, hstride=2, wstride=2, ceil_mode=1)]\""
   ]
  },
  {
   "cell_type": "code",
   "execution_count": 2,
   "id": "f0146ac5",
   "metadata": {},
   "outputs": [],
   "source": [
    "with open(\"../profiling_results/ro_convolutions_profiling.json\", 'r') as myfile:\n",
    "\n",
    "    file_data = json.load(myfile)\n",
    "    \n",
    "    workloads = file_data['workloads']\n",
    "            "
   ]
  },
  {
   "cell_type": "code",
   "execution_count": 5,
   "id": "c3181402",
   "metadata": {},
   "outputs": [],
   "source": [
    "new_dict = {}\n",
    "    \n",
    "for wkl in workloads:\n",
    "    new_dict[wkl['workload_str']] = wkl\n",
    "\n",
    "with open(\"../profiling_results/ro_convolutions_profiling_new_format.json\", 'w+') as outfile:\n",
    "    json.dump(new_dict, outfile, indent=4)"
   ]
  },
  {
   "cell_type": "code",
   "execution_count": null,
   "id": "b18b722d",
   "metadata": {},
   "outputs": [],
   "source": []
  },
  {
   "cell_type": "code",
   "execution_count": 9,
   "id": "aa3d6b81",
   "metadata": {},
   "outputs": [],
   "source": [
    "import glob\n",
    "csv_files = glob.glob(r'ro_conv_profiling/*.csv')"
   ]
  },
  {
   "cell_type": "code",
   "execution_count": 7,
   "id": "2cf86cf3",
   "metadata": {},
   "outputs": [],
   "source": [
    "import re\n",
    "\n",
    "file_re = re.compile(\".*\\/(conv[\\_\\d+]+)\\_(single|multi)\\_sample([\\d]+)\\.csv\")"
   ]
  },
  {
   "cell_type": "code",
   "execution_count": 11,
   "id": "06e56b7f",
   "metadata": {},
   "outputs": [],
   "source": [
    "for file in csv_files:\n",
    "    match = re.search(file_re, file)\n",
    "    if match:\n",
    "        df = pd.read_csv(file)\n",
    "        data = df['ro_data'].tolist()\n",
    "        wkl_key = match.group(1)\n",
    "        exec_string = '{}_exec'.format(match.group(2))\n",
    "        sample_index = int(match.group(3))\n",
    "        new_dict[wkl_key]['results'][sample_index][exec_string] = data\n",
    "        "
   ]
  },
  {
   "cell_type": "code",
   "execution_count": 12,
   "id": "68eb35ed",
   "metadata": {},
   "outputs": [],
   "source": [
    "with open(\"../profiling_results/ro_convolutions_profiling_new_format.json\", 'w+') as outfile:\n",
    "    json.dump(new_dict, outfile, indent=4)"
   ]
  },
  {
   "cell_type": "code",
   "execution_count": 14,
   "id": "980cd58f",
   "metadata": {},
   "outputs": [],
   "source": [
    "reduced_new_dict = {}"
   ]
  },
  {
   "cell_type": "code",
   "execution_count": 18,
   "id": "0f99cf2f",
   "metadata": {},
   "outputs": [],
   "source": [
    "import numpy as np"
   ]
  },
  {
   "cell_type": "code",
   "execution_count": 33,
   "id": "4686d05e",
   "metadata": {},
   "outputs": [],
   "source": [
    "overall_max_len_multi = []\n",
    "overall_max_len_single = []\n",
    "for wkl in new_dict.keys():\n",
    "    wkl_dict = new_dict[wkl]\n",
    "    results = wkl_dict['results']\n",
    "    multi_lens = []\n",
    "    single_lens = []\n",
    "    \n",
    "    for result in results:\n",
    "        multi_lens.append(len(result['multi_exec']))\n",
    "        single_lens.append(len(result['single_exec']))\n",
    "    max_multi = max(multi_lens)\n",
    "    max_single = max(single_lens)\n",
    "    overall_max_len_multi.append(max_multi)\n",
    "    overall_max_len_single.append(max_single)\n",
    "    max_multi_index = np.argmax(multi_lens)\n",
    "    max_single_index = np.argmax(single_lens)\n",
    "    \n",
    "    wkl_dict['results'] = {'multi_exec': results[max_multi_index]['multi_exec'],\n",
    "                           'single_exec': results[max_single_index]['single_exec']\n",
    "                          }\n",
    "    reduced_new_dict[wkl] = wkl_dict"
   ]
  },
  {
   "cell_type": "code",
   "execution_count": 38,
   "id": "d61b8822",
   "metadata": {},
   "outputs": [],
   "source": [
    "with open(\"../profiling_results/ro_convolutions_profiling_reduced.json\", 'w+') as outfile:\n",
    "    json.dump(reduced_new_dict, outfile, indent=4)"
   ]
  },
  {
   "cell_type": "code",
   "execution_count": null,
   "id": "3564c0b6",
   "metadata": {},
   "outputs": [],
   "source": []
  }
 ],
 "metadata": {
  "kernelspec": {
   "display_name": "Python [conda env:tvm-build-il-2] *",
   "language": "python",
   "name": "conda-env-tvm-build-il-2-py"
  },
  "language_info": {
   "codemirror_mode": {
    "name": "ipython",
    "version": 3
   },
   "file_extension": ".py",
   "mimetype": "text/x-python",
   "name": "python",
   "nbconvert_exporter": "python",
   "pygments_lexer": "ipython3",
   "version": "3.8.13"
  }
 },
 "nbformat": 4,
 "nbformat_minor": 5
}
