{
 "cells": [
  {
   "cell_type": "code",
   "execution_count": 3,
   "id": "11b60e9d",
   "metadata": {},
   "outputs": [
    {
     "data": {
      "text/plain": [
       "['network_43',\n",
       " 'network_79',\n",
       " 'network_84',\n",
       " 'network_18',\n",
       " 'network_109',\n",
       " 'network_195',\n",
       " 'network_73',\n",
       " 'network_47',\n",
       " 'network_92',\n",
       " 'network_89',\n",
       " 'network_98',\n",
       " 'network_186',\n",
       " 'network_139',\n",
       " 'network_164',\n",
       " 'network_165',\n",
       " 'network_54',\n",
       " 'network_150',\n",
       " 'network_104',\n",
       " 'network_55',\n",
       " 'network_134',\n",
       " 'network_65',\n",
       " 'network_34',\n",
       " 'network_71',\n",
       " 'network_58',\n",
       " 'network_160',\n",
       " 'network_74',\n",
       " 'network_128',\n",
       " 'network_62',\n",
       " 'network_147',\n",
       " 'network_136',\n",
       " 'network_154',\n",
       " 'network_190',\n",
       " 'network_48',\n",
       " 'network_141',\n",
       " 'network_49',\n",
       " 'network_115',\n",
       " 'network_187',\n",
       " 'network_198']"
      ]
     },
     "execution_count": 3,
     "metadata": {},
     "output_type": "execute_result"
    }
   ],
   "source": [
    "broken = ['network_43', 'network_141', 'network_74', 'network_164', 'network_18', 'network_49', 'network_65', 'network_160', 'network_186', 'network_48', 'network_128', 'network_89', 'network_109', 'network_79', 'network_54', 'network_55', 'network_71', 'network_136', 'network_187', 'network_115', 'network_195', 'network_73', 'network_134', 'network_98', 'network_47', 'network_139', 'network_92', 'network_198', 'network_62', 'network_58', 'network_104', 'network_84', 'network_150', 'network_34', 'network_154', 'network_165', 'network_190', 'network_147']\n",
    "broken = list(set(broken))\n",
    "broken"
   ]
  },
  {
   "cell_type": "code",
   "execution_count": 4,
   "id": "9fa30a85",
   "metadata": {},
   "outputs": [
    {
     "data": {
      "text/plain": [
       "38"
      ]
     },
     "execution_count": 4,
     "metadata": {},
     "output_type": "execute_result"
    }
   ],
   "source": [
    "len(broken)"
   ]
  },
  {
   "cell_type": "code",
   "execution_count": null,
   "id": "e365e625",
   "metadata": {},
   "outputs": [],
   "source": []
  }
 ],
 "metadata": {
  "kernelspec": {
   "display_name": "Python [conda env:tvm-build-il-2] *",
   "language": "python",
   "name": "conda-env-tvm-build-il-2-py"
  },
  "language_info": {
   "codemirror_mode": {
    "name": "ipython",
    "version": 3
   },
   "file_extension": ".py",
   "mimetype": "text/x-python",
   "name": "python",
   "nbconvert_exporter": "python",
   "pygments_lexer": "ipython3",
   "version": "3.8.13"
  }
 },
 "nbformat": 4,
 "nbformat_minor": 5
}
