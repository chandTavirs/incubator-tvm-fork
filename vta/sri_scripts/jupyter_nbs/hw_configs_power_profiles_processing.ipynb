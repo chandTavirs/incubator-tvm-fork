{
 "cells": [
  {
   "cell_type": "code",
   "execution_count": 1,
   "id": "bc35a1af",
   "metadata": {},
   "outputs": [],
   "source": [
    "import pandas as pd\n",
    "import numpy as np\n",
    "import matplotlib.pyplot as plt\n",
    "from scipy.signal import find_peaks"
   ]
  },
  {
   "cell_type": "code",
   "execution_count": 2,
   "id": "5b3d3f5c",
   "metadata": {},
   "outputs": [],
   "source": [
    "# Function to detect plateaus and estimate batch size based on amplitude range\n",
    "def detect_batch_size(power_data, amplitude_range=(12, 12.5), threshold=0.01, min_plateau_length=50):\n",
    "    # Calculate the difference between consecutive points\n",
    "    diff = np.diff(power_data)\n",
    "\n",
    "    # Detect where the difference is smaller than the threshold (flat regions)\n",
    "    plateau_mask = np.abs(diff) < threshold\n",
    "\n",
    "    # Find indices of plateau regions\n",
    "    plateau_regions = np.where(plateau_mask)[0]\n",
    "\n",
    "    # Group consecutive indices to identify continuous plateaus\n",
    "    plateau_ranges = np.split(plateau_regions, np.where(np.diff(plateau_regions) != 1)[0] + 1)\n",
    "\n",
    "    # Filter out short plateaus and those not within the amplitude range\n",
    "    plateaus = [plateau for plateau in plateau_ranges if len(plateau) > min_plateau_length \n",
    "                and amplitude_range[0] <= power_data.iloc[plateau].mean() <= amplitude_range[1]]\n",
    "\n",
    "    # The number of plateaus corresponds to the batch size\n",
    "    batch_size = len(plateaus)\n",
    "\n",
    "    return batch_size, plateaus"
   ]
  },
  {
   "cell_type": "code",
   "execution_count": 59,
   "id": "d69129b3",
   "metadata": {},
   "outputs": [],
   "source": [
    "def process_power_readings(file_path1, file_path2):\n",
    "\n",
    "\n",
    "    # Assuming CSV structure: 'Sample' (or similar), 'Power'\n",
    "    df1 = pd.read_csv(file_path1)\n",
    "    df2 = pd.read_csv(file_path2)\n",
    "\n",
    "    df1.columns.values[0] = 'Sample'\n",
    "    df2.columns.values[0] = 'Sample'\n",
    "    # Extract sample numbers and power data\n",
    "    x1 = df1['Sample']  # Replace 'Sample' with the actual column name if different\n",
    "    power_data1 = df1['12V_power']  # Replace 'Power' with the actual column name if different\n",
    "\n",
    "    x2 = df2['Sample']  # Replace 'Sample' with the actual column name if different\n",
    "    power_data2 = df2['12V_power']  # Replace 'Power' with the actual column name if different\n",
    "\n",
    "    # Detect batch size for graph 1\n",
    "    batch_size1, plateaus1 = detect_batch_size(power_data1, amplitude_range=(11.6, 12.3), threshold=0.2, min_plateau_length=15)\n",
    "    \n",
    "\n",
    "    # Detect batch size for graph 2\n",
    "    batch_size2, plateaus2 = detect_batch_size(power_data1, amplitude_range=(11.5, 12.5), threshold=0.2,min_plateau_length=15)\n",
    "\n",
    "    # Optional: Plot the results\n",
    "#     plt.figure(figsize=(12, 6))\n",
    "#     plt.subplot(2, 1, 1)\n",
    "#     plt.plot(df1['Sample'], power_data1, label='Power Data - Graph 1')\n",
    "#     for plateau in plateaus1:\n",
    "#         plt.plot(df1['Sample'].iloc[plateau], power_data1.iloc[plateau], 'r-', linewidth=2)\n",
    "#     plt.title(f\"Graph 1: Detected Batch Size = {batch_size1}\")\n",
    "\n",
    "#     plt.subplot(2, 1, 2)\n",
    "#     plt.plot(df2['Sample'], power_data2, label='Power Data - Graph 2')\n",
    "#     for plateau in plateaus2:\n",
    "#         plt.plot(df2['Sample'].iloc[plateau], power_data2.iloc[plateau], 'r-', linewidth=2)\n",
    "#     plt.title(f\"Graph 2: Detected Batch Size = {batch_size2}\")\n",
    "\n",
    "#     plt.tight_layout()\n",
    "    \n",
    "    return batch_size1, batch_size2"
   ]
  },
  {
   "cell_type": "code",
   "execution_count": 60,
   "id": "8cd26972",
   "metadata": {},
   "outputs": [
    {
     "name": "stdout",
     "output_type": "stream",
     "text": [
      "Detected batch size 1 for Graph 1: 69 out of 100\n",
      "Detected batch size 4 for Graph 2: 2 out of 100\n"
     ]
    }
   ],
   "source": [
    "bs_1x16x16 = 0\n",
    "bs_4x8x8 = 0\n",
    "for i in range(100):\n",
    "    # Load data from CSV files into pandas dataframes\n",
    "    # Replace with actual file paths if necessary\n",
    "    file_path1 = f'hw_configs_power_profiles/power_readings_pmbus_1x16x16_{i}.csv'\n",
    "    file_path2 = 'hw_configs_power_profiles/power_readings_pmbus_4x8x8.csv'\n",
    "    batch_size1, batch_size2 = process_power_readings(file_path1, file_path2)\n",
    "    if batch_size1 == 1:\n",
    "        bs_1x16x16 += 1\n",
    "    if batch_size2 == 4:\n",
    "        bs_4x8x8 += 1\n",
    "\n",
    "\n",
    "print(f\"Detected batch size 1 for Graph 1: {bs_1x16x16} out of 100\")\n",
    "print(f\"Detected batch size 4 for Graph 2: {bs_4x8x8} out of 100\")\n",
    "# plt.show()"
   ]
  },
  {
   "cell_type": "code",
   "execution_count": null,
   "id": "616ab7b2",
   "metadata": {},
   "outputs": [],
   "source": []
  }
 ],
 "metadata": {
  "kernelspec": {
   "display_name": "Python 3 (ipykernel)",
   "language": "python",
   "name": "python3"
  },
  "language_info": {
   "codemirror_mode": {
    "name": "ipython",
    "version": 3
   },
   "file_extension": ".py",
   "mimetype": "text/x-python",
   "name": "python",
   "nbconvert_exporter": "python",
   "pygments_lexer": "ipython3",
   "version": "3.8.13"
  }
 },
 "nbformat": 4,
 "nbformat_minor": 5
}
