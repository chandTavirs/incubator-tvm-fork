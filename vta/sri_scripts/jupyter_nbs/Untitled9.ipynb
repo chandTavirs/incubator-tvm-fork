{
 "cells": [
  {
   "cell_type": "code",
   "execution_count": 2,
   "id": "eab347ab",
   "metadata": {},
   "outputs": [
    {
     "data": {
      "text/plain": [
       "['578']"
      ]
     },
     "execution_count": 2,
     "metadata": {},
     "output_type": "execute_result"
    }
   ],
   "source": [
    "import re\n",
    "\n",
    "re.findall('network_([\\d]+).csv', 'network_578.csv')"
   ]
  },
  {
   "cell_type": "code",
   "execution_count": 2,
   "id": "1ff45e96",
   "metadata": {},
   "outputs": [
    {
     "data": {
      "text/plain": [
       "99"
      ]
     },
     "execution_count": 2,
     "metadata": {},
     "output_type": "execute_result"
    }
   ],
   "source": [
    "files = ['network_410.csv', 'network_552.csv', 'network_474.csv', 'network_197.csv', 'network_744.csv', 'network_571.csv', 'network_266.csv', 'network_122.csv', 'network_620.csv', 'network_21.csv', 'network_449.csv', 'network_691.csv', 'network_326.csv', 'network_471.csv', 'network_518.csv', 'network_509.csv', 'network_330.csv', 'network_316.csv', 'network_455.csv', 'network_494.csv', 'network_463.csv', 'network_721.csv', 'network_95.csv', 'network_739.csv', 'network_56.csv', 'network_154.csv', 'network_621.csv', 'network_661.csv', 'network_766.csv', 'network_608.csv', 'network_703.csv', 'network_488.csv', 'network_205.csv', 'network_487.csv', 'network_175.csv', 'network_670.csv', 'network_593.csv', 'network_291.csv', 'network_448.csv', 'network_57.csv', 'network_656.csv', 'network_514.csv', 'network_15.csv', 'network_61.csv', 'network_708.csv', 'network_50.csv', 'network_195.csv', 'network_279.csv', 'network_293.csv', 'network_251.csv', 'network_495.csv', 'network_775.csv', 'network_68.csv', 'network_768.csv', 'network_182.csv', 'network_717.csv', 'network_187.csv', 'network_322.csv', 'network_754.csv', 'network_718.csv', 'network_81.csv', 'network_148.csv', 'network_536.csv', 'network_477.csv', 'network_662.csv', 'network_260.csv', 'network_338.csv', 'network_644.csv', 'network_284.csv', 'network_441.csv', 'network_393.csv', 'network_378.csv', 'network_581.csv', 'network_502.csv', 'network_295.csv', 'network_344.csv', 'network_365.csv', 'network_210.csv', 'network_314.csv', 'network_172.csv', 'network_336.csv', 'network_761.csv', 'network_120.csv', 'network_323.csv', 'network_500.csv', 'network_665.csv', 'network_58.csv', 'network_698.csv', 'network_32.csv', 'network_270.csv', 'network_567.csv', 'network_168.csv', 'network_222.csv', 'network_144.csv', 'network_348.csv', 'network_531.csv', 'network_223.csv', 'network_425.csv', 'network_755.csv']\n",
    "len(files)"
   ]
  },
  {
   "cell_type": "code",
   "execution_count": 5,
   "id": "3f5acbe8",
   "metadata": {},
   "outputs": [],
   "source": [
    "import pandas as pd\n",
    "\n",
    "df = pd.DataFrame({'labels':['layer', 'layer', 'boundary', 'layer', 'boundary']})"
   ]
  },
  {
   "cell_type": "code",
   "execution_count": 7,
   "id": "a8d6cbb3",
   "metadata": {},
   "outputs": [],
   "source": [
    "alt = df['labels'].apply(lambda x: 0 if x == 'layer' else 1).tolist()"
   ]
  },
  {
   "cell_type": "code",
   "execution_count": 8,
   "id": "ad57009c",
   "metadata": {},
   "outputs": [
    {
     "data": {
      "text/plain": [
       "[0, 0, 1, 0, 1]"
      ]
     },
     "execution_count": 8,
     "metadata": {},
     "output_type": "execute_result"
    }
   ],
   "source": [
    "alt"
   ]
  }
 ],
 "metadata": {
  "kernelspec": {
   "display_name": "Python [conda env:tvm-build-il-2] *",
   "language": "python",
   "name": "conda-env-tvm-build-il-2-py"
  },
  "language_info": {
   "codemirror_mode": {
    "name": "ipython",
    "version": 3
   },
   "file_extension": ".py",
   "mimetype": "text/x-python",
   "name": "python",
   "nbconvert_exporter": "python",
   "pygments_lexer": "ipython3",
   "version": "3.8.13"
  }
 },
 "nbformat": 4,
 "nbformat_minor": 5
}
