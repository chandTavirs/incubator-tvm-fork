{
 "cells": [
  {
   "cell_type": "code",
   "execution_count": 1,
   "id": "9b08ff0e",
   "metadata": {},
   "outputs": [],
   "source": [
    "import pandas as pd\n",
    "import numpy as np\n",
    "\n",
    "csv_file = '../ro_uart_logs/ro_log.csv'\n",
    "\n",
    "\n",
    "df = pd.read_csv(csv_file)\n",
    "\n",
    "df = df[45000:65000]\n",
    "\n",
    "\n",
    "\n",
    "\n",
    "# Step 1: Prepare the Data\n",
    "# Assuming your dataframe is named 'df' and the column containing the integers is named 'values'\n",
    "\n",
    "# Generate a time or index column if not already present\n",
    "df['time'] = pd.to_datetime(range(len(df)), unit='s')\n",
    "\n",
    "# Step 2: Perform Fourier Transform\n",
    "values = df['RO_VALUES'].values\n",
    "fft = np.fft.fft(values)\n",
    "\n",
    "# Calculate the magnitudes of the frequency components\n",
    "magnitudes = np.abs(fft)\n",
    "\n",
    "# Calculate the frequencies corresponding to each component\n",
    "n = len(df)\n",
    "timestep = 1  # Assuming a unit timestep between data points\n",
    "frequencies = np.fft.fftfreq(n, d=timestep)\n",
    "\n",
    "# Step 3: Identify Dominant Frequencies\n",
    "# Sort the frequencies and magnitudes by magnitude in descending order\n",
    "sorted_indices = np.argsort(magnitudes)[::-1]\n",
    "sorted_frequencies = frequencies[sorted_indices]\n",
    "sorted_magnitudes = magnitudes[sorted_indices]\n",
    "\n",
    "# Determine the number of dominant frequencies to consider\n",
    "num_dominant_freqs = 2  # Adjust this based on your data and requirements\n",
    "\n",
    "# Select the top dominant frequencies\n",
    "dominant_frequencies = sorted_frequencies[:num_dominant_freqs]\n",
    "\n",
    "# # Step 4: Partition the Data\n",
    "# # Define frequency ranges or thresholds for segmenting the data\n",
    "# frequency_ranges = [(0, 0.01), (0.01, 0.05), (0.05, 0.1)]  # Example ranges\n",
    "\n",
    "# # Step 5: Extract Segments\n",
    "# segmented_data = {}\n",
    "\n",
    "# # Iterate over the frequency ranges and extract segments\n",
    "# for i, (freq_start, freq_end) in enumerate(frequency_ranges):\n",
    "#     # Find indices of frequencies within the specified range\n",
    "#     indices = np.where((dominant_frequencies >= freq_start) & (dominant_frequencies < freq_end))[0]\n",
    "    \n",
    "#     # Extract the corresponding frequency components\n",
    "#     selected_indices = sorted_indices[indices]\n",
    "#     selected_frequencies = dominant_frequencies[indices]\n",
    "#     selected_magnitudes = sorted_magnitudes[indices]\n",
    "#     selected_fft = fft.copy()\n",
    "#     selected_fft[np.logical_not(np.isin(range(n), selected_indices))] = 0\n",
    "    \n",
    "#     # Apply inverse Fourier transform to obtain the segmented data\n",
    "#     segmented_values = np.real(np.fft.ifft(selected_fft))\n",
    "    \n",
    "#     # Create a new dataframe or array to store the segmented data\n",
    "#     segmented_data[f\"Segment {i+1}\"] = segmented_values\n",
    "\n",
    "# # Optional: Convert segmented data to pandas dataframes if desired\n",
    "# segmented_dfs = {segment: pd.DataFrame({'time': df['time'], 'values': values})\n",
    "#                  for segment, values in segmented_data.items()}\n",
    "\n",
    "# # Step 6: Perform Further Analysis\n",
    "# # You can now perform any additional analysis or processing on each segmented dataframe\n",
    "\n",
    "# # Example: Print the first few rows of each segmented dataframe\n",
    "# for segment, segmented_df in segmented_dfs.items():\n",
    "#     print(f\"Segment: {segment}\")\n",
    "#     print(segmented_df.head())\n",
    "#     print()"
   ]
  },
  {
   "cell_type": "code",
   "execution_count": 2,
   "id": "738c9d1c",
   "metadata": {},
   "outputs": [
    {
     "data": {
      "text/plain": [
       "array([ 0.     , -0.29365])"
      ]
     },
     "execution_count": 2,
     "metadata": {},
     "output_type": "execute_result"
    }
   ],
   "source": [
    "dominant_frequencies"
   ]
  },
  {
   "cell_type": "code",
   "execution_count": 6,
   "id": "cb8188e4",
   "metadata": {},
   "outputs": [
    {
     "data": {
      "image/png": "[encoded data removed]",
      "text/plain": [
       "<Figure size 432x288 with 1 Axes>"
      ]
     },
     "metadata": {
      "needs_background": "light"
     },
     "output_type": "display_data"
    }
   ],
   "source": [
    "import matplotlib.pyplot as plt\n",
    "window_indices = np.arange(0, num_windows)\n",
    "plt.plot(window_indices, clusters)\n",
    "plt.xlabel('Window Index')\n",
    "plt.ylabel('Cluster Label')\n",
    "plt.title('Window Index vs Cluster Label')\n",
    "plt.show()"
   ]
  },
  {
   "cell_type": "code",
   "execution_count": null,
   "id": "b9f75e2d",
   "metadata": {},
   "outputs": [],
   "source": []
  }
 ],
 "metadata": {
  "kernelspec": {
   "display_name": "Python [conda env:tvm-build-il-2] *",
   "language": "python",
   "name": "conda-env-tvm-build-il-2-py"
  },
  "language_info": {
   "codemirror_mode": {
    "name": "ipython",
    "version": 3
   },
   "file_extension": ".py",
   "mimetype": "text/x-python",
   "name": "python",
   "nbconvert_exporter": "python",
   "pygments_lexer": "ipython3",
   "version": "3.8.13"
  }
 },
 "nbformat": 4,
 "nbformat_minor": 5
}
