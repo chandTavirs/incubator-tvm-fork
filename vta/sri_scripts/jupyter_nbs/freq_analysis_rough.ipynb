{
 "cells": [
  {
   "cell_type": "code",
   "execution_count": 1,
   "id": "48374d0b",
   "metadata": {},
   "outputs": [],
   "source": [
    "import pandas as pd\n",
    "from tsfresh import extract_features"
   ]
  },
  {
   "cell_type": "code",
   "execution_count": 6,
   "id": "b0935b1e",
   "metadata": {},
   "outputs": [
    {
     "data": {
      "text/plain": [
       "'0.18.0'"
      ]
     },
     "execution_count": 6,
     "metadata": {},
     "output_type": "execute_result"
    }
   ],
   "source": []
  },
  {
   "cell_type": "code",
   "execution_count": 2,
   "id": "a505c0ec",
   "metadata": {},
   "outputs": [],
   "source": [
    "csv_file = '../ro_uart_logs/ro_log.csv'\n",
    "\n",
    "%matplotlib inline\n",
    "import pandas as pd\n",
    "import matplotlib.pyplot as plt\n",
    "\n",
    "df = pd.read_csv(csv_file)\n",
    "df = df[45000:65000]"
   ]
  },
  {
   "cell_type": "code",
   "execution_count": 5,
   "id": "654f2ad3",
   "metadata": {},
   "outputs": [
    {
     "name": "stderr",
     "output_type": "stream",
     "text": [
      "Feature Extraction: 100%|███████████████████████| 10/10 [05:14<00:00, 31.42s/it]\n"
     ]
    },
    {
     "name": "stdout",
     "output_type": "stream",
     "text": [
      "20000\n"
     ]
    }
   ],
   "source": [
    "\n",
    "# Add a column 'id' to uniquely identify each data point (assuming a time series)\n",
    "df['id'] = range(len(df))\n",
    "\n",
    "# Extract features using tsfresh\n",
    "extracted_features = extract_features(df, column_id='id', column_sort=None)\n",
    "\n",
    "# Print the extracted features\n",
    "print(len(extracted_features))"
   ]
  },
  {
   "cell_type": "code",
   "execution_count": null,
   "id": "6890b37d",
   "metadata": {},
   "outputs": [],
   "source": []
  }
 ],
 "metadata": {
  "kernelspec": {
   "display_name": "Python [conda env:tvm-build-il-2] *",
   "language": "python",
   "name": "conda-env-tvm-build-il-2-py"
  },
  "language_info": {
   "codemirror_mode": {
    "name": "ipython",
    "version": 3
   },
   "file_extension": ".py",
   "mimetype": "text/x-python",
   "name": "python",
   "nbconvert_exporter": "python",
   "pygments_lexer": "ipython3",
   "version": "3.8.13"
  }
 },
 "nbformat": 4,
 "nbformat_minor": 5
}
