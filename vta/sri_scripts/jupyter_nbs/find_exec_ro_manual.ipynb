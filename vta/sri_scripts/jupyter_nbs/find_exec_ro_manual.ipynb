{
 "cells": [
  {
   "cell_type": "code",
   "execution_count": 2,
   "id": "53b250d6",
   "metadata": {},
   "outputs": [],
   "source": [
    "import pandas as pd\n",
    "import numpy as np\n",
    "import pywt\n",
    "from scipy.stats import median_absolute_deviation\n",
    "from sklearn.cluster import KMeans\n",
    "import matplotlib.pyplot as plt\n",
    "from scipy import stats\n",
    "import os"
   ]
  },
  {
   "cell_type": "code",
   "execution_count": 14,
   "id": "fb488782",
   "metadata": {},
   "outputs": [],
   "source": [
    "full_csv_dir = '/home/srchand/Desktop/research/TVM_Intel_Fork/tvm/vta/sri_scripts/dataset/ro_uart/rcg/csvs'\n",
    "reduced_csv_dir = '/home/srchand/Desktop/research/TVM_Intel_Fork/tvm/vta/sri_scripts/dataset/ro_uart/rcg/csvs/reduced'"
   ]
  },
  {
   "cell_type": "code",
   "execution_count": 235,
   "id": "10c7de2e",
   "metadata": {},
   "outputs": [],
   "source": [
    "# full_csv_files = [file for file in os.listdir(full_csv_dir) if file.endswith('.csv')]\n",
    "full_csv_files = ['network_621.csv', 'network_703.csv', 'network_487.csv', 'network_593.csv', 'network_448.csv', 'network_425.csv']"
   ]
  },
  {
   "cell_type": "code",
   "execution_count": 236,
   "id": "4f95078b",
   "metadata": {},
   "outputs": [],
   "source": [
    "index = 0"
   ]
  },
  {
   "cell_type": "code",
   "execution_count": 249,
   "id": "ba4600b5",
   "metadata": {},
   "outputs": [
    {
     "ename": "IndexError",
     "evalue": "list index out of range",
     "output_type": "error",
     "traceback": [
      "\u001b[0;31m---------------------------------------------------------------------------\u001b[0m",
      "\u001b[0;31mIndexError\u001b[0m                                Traceback (most recent call last)",
      "Input \u001b[0;32mIn [249]\u001b[0m, in \u001b[0;36m<cell line: 1>\u001b[0;34m()\u001b[0m\n\u001b[0;32m----> 1\u001b[0m csv_file_name \u001b[38;5;241m=\u001b[39m \u001b[43mfull_csv_files\u001b[49m\u001b[43m[\u001b[49m\u001b[43mindex\u001b[49m\u001b[43m]\u001b[49m\n\u001b[1;32m      2\u001b[0m full_csv_file_path \u001b[38;5;241m=\u001b[39m os\u001b[38;5;241m.\u001b[39mpath\u001b[38;5;241m.\u001b[39mjoin(full_csv_dir, csv_file_name)\n\u001b[1;32m      3\u001b[0m reduced_csv_file_path \u001b[38;5;241m=\u001b[39m os\u001b[38;5;241m.\u001b[39mpath\u001b[38;5;241m.\u001b[39mjoin(reduced_csv_dir, csv_file_name)\n",
      "\u001b[0;31mIndexError\u001b[0m: list index out of range"
     ]
    }
   ],
   "source": [
    "csv_file_name = full_csv_files[index]\n",
    "full_csv_file_path = os.path.join(full_csv_dir, csv_file_name)\n",
    "reduced_csv_file_path = os.path.join(reduced_csv_dir, csv_file_name)\n",
    "\n",
    "print(csv_file_name)\n",
    "\n",
    "# Read the CSV file into a Pandas DataFrame\n",
    "df = pd.read_csv(full_csv_file_path)\n",
    "lendf = len(df)\n",
    "\n",
    "z_scores = stats.zscore(df['RO_VALUE'])\n",
    "threshold = 5\n",
    "\n",
    "df = df[(np.abs(z_scores) <= threshold)]\n",
    "df.reset_index(drop=True, inplace=True)\n",
    "\n",
    "\n",
    "df['RO_VALUE'].plot(subplots=True, figsize=(20,10))\n",
    "plt.ylim(18000,22000)\n",
    "plt.show()\n",
    "\n",
    "index = index + 1"
   ]
  },
  {
   "cell_type": "code",
   "execution_count": 248,
   "id": "032730d8",
   "metadata": {},
   "outputs": [],
   "source": [
    "start_index = 3000\n",
    "end_index = 9000\n",
    "\n",
    "exec_data = df.iloc[start_index : end_index]\n",
    "exec_data.reset_index(drop=True, inplace=True)\n",
    "\n",
    "assert reduced_csv_file_path.split('/')[-1] == csv_file_name\n",
    "\n",
    "exec_data.to_csv(reduced_csv_file_path)"
   ]
  },
  {
   "cell_type": "code",
   "execution_count": 231,
   "id": "acea8836",
   "metadata": {},
   "outputs": [
    {
     "data": {
      "text/plain": [
       "100"
      ]
     },
     "execution_count": 231,
     "metadata": {},
     "output_type": "execute_result"
    }
   ],
   "source": [
    "index"
   ]
  },
  {
   "cell_type": "code",
   "execution_count": null,
   "id": "2a1f3e5b",
   "metadata": {},
   "outputs": [],
   "source": []
  }
 ],
 "metadata": {
  "kernelspec": {
   "display_name": "Python [conda env:tvm-build-il-2] *",
   "language": "python",
   "name": "conda-env-tvm-build-il-2-py"
  },
  "language_info": {
   "codemirror_mode": {
    "name": "ipython",
    "version": 3
   },
   "file_extension": ".py",
   "mimetype": "text/x-python",
   "name": "python",
   "nbconvert_exporter": "python",
   "pygments_lexer": "ipython3",
   "version": "3.8.13"
  }
 },
 "nbformat": 4,
 "nbformat_minor": 5
}
