{
 "cells": [
  {
   "cell_type": "code",
   "execution_count": 21,
   "id": "c9db40a7",
   "metadata": {},
   "outputs": [],
   "source": [
    "import numpy as np\n",
    "row = [0]*340\n",
    "old = [row]*200"
   ]
  },
  {
   "cell_type": "code",
   "execution_count": 2,
   "id": "0b0684a4",
   "metadata": {},
   "outputs": [
    {
     "data": {
      "text/plain": [
       "12"
      ]
     },
     "execution_count": 2,
     "metadata": {},
     "output_type": "execute_result"
    }
   ],
   "source": [
    "broken_175000 = ['network_2_set_0', 'network_134_set_0', 'network_111_set_0', 'network_62_set_0', 'network_43_set_0', 'network_68_set_0', 'network_22_set_0', 'network_26_set_0', 'network_192_set_0', 'network_59_set_0', 'network_36_set_0', 'network_146_set_0']\n",
    "len(broken_175000)"
   ]
  },
  {
   "cell_type": "code",
   "execution_count": 3,
   "id": "c027081b",
   "metadata": {},
   "outputs": [
    {
     "data": {
      "text/plain": [
       "54"
      ]
     },
     "execution_count": 3,
     "metadata": {},
     "output_type": "execute_result"
    }
   ],
   "source": [
    "broken_1x16x16_175000 = ['network_111_set_0', 'network_148_set_0', 'network_168_set_0', 'network_92_set_0', 'network_82_set_0', 'network_123_set_0', 'network_93_set_0', 'network_85_set_0', 'network_187_set_0', 'network_35_set_0', 'network_56_set_0', 'network_89_set_0', 'network_151_set_0', 'network_29_set_0', 'network_135_set_0', 'network_107_set_0', 'network_192_set_0', 'network_125_set_0', 'network_124_set_0', 'network_13_set_0', 'network_182_set_0', 'network_20_set_0', 'network_47_set_0', 'network_28_set_0', 'network_133_set_0', 'network_149_set_0', 'network_98_set_0', 'network_144_set_0', 'network_190_set_0', 'network_106_set_0', 'network_118_set_0', 'network_88_set_0', 'network_68_set_0', 'network_46_set_0', 'network_102_set_0', 'network_160_set_0', 'network_73_set_0', 'network_75_set_0', 'network_170_set_0', 'network_185_set_0', 'network_186_set_0', 'network_60_set_0', 'network_59_set_0', 'network_121_set_0', 'network_94_set_0', 'network_105_set_0', 'network_41_set_0', 'network_176_set_0', 'network_150_set_0', 'network_131_set_0', 'network_33_set_0', 'network_37_set_0', 'network_27_set_0', 'network_100_set_0']\n",
    "\n",
    "\n",
    "len(broken_1x16x16_175000)"
   ]
  },
  {
   "cell_type": "code",
   "execution_count": 2,
   "id": "ce8908b9",
   "metadata": {},
   "outputs": [
    {
     "data": {
      "text/plain": [
       "49"
      ]
     },
     "execution_count": 2,
     "metadata": {},
     "output_type": "execute_result"
    }
   ],
   "source": [
    "broken_1x16x16_10000 = ['network_68_set_0', 'network_171_set_0', 'network_173_set_0', 'network_84_set_0', 'network_140_set_0', 'network_150_set_0', 'network_32_set_0', 'network_212_set_0', 'network_159_set_0', 'network_61_set_0', 'network_51_set_0', 'network_65_set_0', 'network_11_set_0', 'network_94_set_0', 'network_52_set_0', 'network_91_set_0', 'network_114_set_0', 'network_18_set_0', 'network_81_set_0', 'network_201_set_0', 'network_4_set_0', 'network_41_set_0', 'network_13_set_0', 'network_170_set_0', 'network_191_set_0', 'network_193_set_0', 'network_153_set_0', 'network_124_set_0', 'network_54_set_0', 'network_27_set_0', 'network_123_set_0', 'network_5_set_0', 'network_71_set_0', 'network_149_set_0', 'network_113_set_0', 'network_162_set_0', 'network_130_set_0', 'network_75_set_0', 'network_31_set_0', 'network_198_set_0', 'network_73_set_0', 'network_121_set_0', 'network_98_set_0', 'network_104_set_0', 'network_145_set_0', 'network_10_set_0', 'network_203_set_0', 'network_188_set_0', 'network_66_set_0']\n",
    "\n",
    "len(broken_1x16x16_10000)"
   ]
  },
  {
   "cell_type": "code",
   "execution_count": 3,
   "id": "6ec57639",
   "metadata": {},
   "outputs": [
    {
     "data": {
      "text/plain": [
       "122"
      ]
     },
     "execution_count": 3,
     "metadata": {},
     "output_type": "execute_result"
    }
   ],
   "source": [
    "broken_4x8x8_10000 = ['network_172_set_0', 'network_157_set_0', 'network_97_set_0', 'network_174_set_0', 'network_107_set_0', 'network_188_set_0', 'network_150_set_0', 'network_89_set_0', 'network_177_set_0', 'network_53_set_0', 'network_129_set_0', 'network_119_set_0', 'network_87_set_0', 'network_34_set_0', 'network_51_set_0', 'network_55_set_0', 'network_54_set_0', 'network_143_set_0', 'network_101_set_0', 'network_78_set_0', 'network_176_set_0', 'network_152_set_0', 'network_23_set_0', 'network_103_set_0', 'network_59_set_0', 'network_128_set_0', 'network_108_set_0', 'network_13_set_0', 'network_58_set_0', 'network_77_set_0', 'network_137_set_0', 'network_122_set_0', 'network_47_set_0', 'network_115_set_0', 'network_159_set_0', 'network_32_set_0', 'network_110_set_0', 'network_37_set_0', 'network_123_set_0', 'network_95_set_0', 'network_60_set_0', 'network_33_set_0', 'network_61_set_0', 'network_120_set_0', 'network_160_set_0', 'network_36_set_0', 'network_168_set_0', 'network_6_set_0', 'network_27_set_0', 'network_106_set_0', 'network_75_set_0', 'network_45_set_0', 'network_169_set_0', 'network_179_set_0', 'network_161_set_0', 'network_70_set_0', 'network_90_set_0', 'network_17_set_0', 'network_56_set_0', 'network_11_set_0', 'network_73_set_0', 'network_72_set_0', 'network_21_set_0', 'network_134_set_0', 'network_92_set_0', 'network_22_set_0', 'network_121_set_0', 'network_84_set_0', 'network_165_set_0', 'network_8_set_0', 'network_57_set_0', 'network_113_set_0', 'network_74_set_0', 'network_180_set_0', 'network_25_set_0', 'network_142_set_0', 'network_96_set_0', 'network_91_set_0', 'network_63_set_0', 'network_40_set_0', 'network_1_set_0', 'network_130_set_0', 'network_0_set_0', 'network_71_set_0', 'network_167_set_0', 'network_146_set_0', 'network_127_set_0', 'network_15_set_0', 'network_39_set_0', 'network_136_set_0', 'network_94_set_0', 'network_67_set_0', 'network_69_set_0', 'network_31_set_0', 'network_19_set_0', 'network_131_set_0', 'network_162_set_0', 'network_182_set_0', 'network_3_set_0', 'network_76_set_0', 'network_125_set_0', 'network_102_set_0', 'network_189_set_0', 'network_28_set_0', 'network_14_set_0', 'network_170_set_0', 'network_173_set_0', 'network_41_set_0', 'network_158_set_0', 'network_48_set_0', 'network_44_set_0', 'network_155_set_0', 'network_9_set_0', 'network_118_set_0', 'network_139_set_0', 'network_148_set_0', 'network_85_set_0', 'network_16_set_0', 'network_26_set_0', 'network_38_set_0', 'network_140_set_0', 'network_93_set_0']\n",
    "len(broken_4x8x8_10000)"
   ]
  },
  {
   "cell_type": "code",
   "execution_count": 4,
   "id": "71d07d0f",
   "metadata": {},
   "outputs": [
    {
     "data": {
      "text/plain": [
       "70"
      ]
     },
     "execution_count": 4,
     "metadata": {},
     "output_type": "execute_result"
    }
   ],
   "source": [
    "broken_4x8x8_75000_333 = ['network_129_set_0', 'network_162_set_0', 'network_142_set_0', 'network_114_set_0', 'network_46_set_0', 'network_239_set_0', 'network_169_set_0', 'network_194_set_0', 'network_202_set_0', 'network_126_set_0', 'network_58_set_0', 'network_144_set_0', 'network_32_set_0', 'network_10_set_0', 'network_244_set_0', 'network_130_set_0', 'network_104_set_0', 'network_195_set_0', 'network_136_set_0', 'network_70_set_0', 'network_240_set_0', 'network_210_set_0', 'network_189_set_0', 'network_225_set_0', 'network_242_set_0', 'network_197_set_0', 'network_173_set_0', 'network_75_set_0', 'network_249_set_0', 'network_102_set_0', 'network_208_set_0', 'network_106_set_0', 'network_175_set_0', 'network_243_set_0', 'network_115_set_0', 'network_122_set_0', 'network_60_set_0', 'network_203_set_0', 'network_72_set_0', 'network_85_set_0', 'network_156_set_0', 'network_86_set_0', 'network_248_set_0', 'network_245_set_0', 'network_25_set_0', 'network_167_set_0', 'network_83_set_0', 'network_246_set_0', 'network_105_set_0', 'network_27_set_0', 'network_8_set_0', 'network_183_set_0', 'network_233_set_0', 'network_231_set_0', 'network_247_set_0', 'network_180_set_0', 'network_219_set_0', 'network_170_set_0', 'network_91_set_0', 'network_241_set_0', 'network_164_set_0', 'network_11_set_0', 'network_222_set_0', 'network_186_set_0', 'network_63_set_0', 'network_166_set_0', 'network_139_set_0', 'network_103_set_0', 'network_30_set_0', 'network_184_set_0']\n",
    "len(broken_4x8x8_75000_333)"
   ]
  },
  {
   "cell_type": "code",
   "execution_count": 5,
   "id": "6abc7e78",
   "metadata": {},
   "outputs": [],
   "source": [
    "new = [row] * 100"
   ]
  },
  {
   "cell_type": "code",
   "execution_count": 16,
   "id": "82710bbf",
   "metadata": {},
   "outputs": [
    {
     "data": {
      "text/plain": [
       "340"
      ]
     },
     "execution_count": 16,
     "metadata": {},
     "output_type": "execute_result"
    }
   ],
   "source": [
    "len(old[0])\n"
   ]
  },
  {
   "cell_type": "code",
   "execution_count": 22,
   "id": "686e75d4",
   "metadata": {},
   "outputs": [],
   "source": [
    "arr=np.array([0,0,0,0,0,0,0,0])"
   ]
  },
  {
   "cell_type": "code",
   "execution_count": 25,
   "id": "32684f74",
   "metadata": {},
   "outputs": [
    {
     "data": {
      "text/plain": [
       "array([0, 0])"
      ]
     },
     "execution_count": 25,
     "metadata": {},
     "output_type": "execute_result"
    }
   ],
   "source": [
    "arr[4:6]"
   ]
  },
  {
   "cell_type": "code",
   "execution_count": 26,
   "id": "955c67c6",
   "metadata": {},
   "outputs": [
    {
     "data": {
      "text/plain": [
       "42"
      ]
     },
     "execution_count": 26,
     "metadata": {},
     "output_type": "execute_result"
    }
   ],
   "source": [
    "Finished_files =  ['network_410.csv', 'network_552.csv', 'network_474.csv', 'network_197.csv', 'network_744.csv', 'network_571.csv', 'network_266.csv', 'network_122.csv', 'network_620.csv', 'network_21.csv', 'network_449.csv', 'network_691.csv', 'network_326.csv', 'network_471.csv', 'network_518.csv', 'network_509.csv', 'network_330.csv', 'network_316.csv', 'network_455.csv', 'network_494.csv', 'network_463.csv', 'network_721.csv', 'network_95.csv', 'network_739.csv', 'network_56.csv', 'network_154.csv', 'network_621.csv', 'network_661.csv', 'network_766.csv', 'network_608.csv', 'network_703.csv', 'network_488.csv', 'network_205.csv', 'network_487.csv', 'network_175.csv', 'network_670.csv', 'network_593.csv', 'network_291.csv', 'network_448.csv', 'network_57.csv', 'network_656.csv', 'network_514.csv']\n",
    "len(Finished_files)"
   ]
  },
  {
   "cell_type": "code",
   "execution_count": 27,
   "id": "57b2cafa",
   "metadata": {},
   "outputs": [
    {
     "data": {
      "text/plain": [
       "15"
      ]
     },
     "execution_count": 27,
     "metadata": {},
     "output_type": "execute_result"
    }
   ],
   "source": [
    "int('network_15.csv'.split('.')[0].split('_')[1].strip())"
   ]
  },
  {
   "cell_type": "code",
   "execution_count": 29,
   "id": "0f0323de",
   "metadata": {},
   "outputs": [
    {
     "data": {
      "text/plain": [
       "99"
      ]
     },
     "execution_count": 29,
     "metadata": {},
     "output_type": "execute_result"
    }
   ],
   "source": [
    "files=  ['network_410.csv', 'network_552.csv', 'network_474.csv', 'network_197.csv', 'network_744.csv', 'network_571.csv', 'network_266.csv', 'network_122.csv', 'network_620.csv', 'network_21.csv', 'network_449.csv', 'network_691.csv', 'network_326.csv', 'network_471.csv', 'network_518.csv', 'network_509.csv', 'network_330.csv', 'network_316.csv', 'network_455.csv', 'network_494.csv', 'network_463.csv', 'network_721.csv', 'network_95.csv', 'network_739.csv', 'network_56.csv', 'network_154.csv', 'network_621.csv', 'network_661.csv', 'network_766.csv', 'network_608.csv', 'network_703.csv', 'network_488.csv', 'network_205.csv', 'network_487.csv', 'network_175.csv', 'network_670.csv', 'network_593.csv', 'network_291.csv', 'network_448.csv', 'network_57.csv', 'network_656.csv', 'network_514.csv', 'network_15.csv', 'network_61.csv', 'network_708.csv', 'network_50.csv', 'network_195.csv', 'network_279.csv', 'network_293.csv', 'network_251.csv', 'network_495.csv', 'network_775.csv', 'network_68.csv', 'network_768.csv', 'network_182.csv', 'network_717.csv', 'network_187.csv', 'network_322.csv', 'network_754.csv', 'network_718.csv', 'network_81.csv', 'network_148.csv', 'network_536.csv', 'network_477.csv', 'network_662.csv', 'network_260.csv', 'network_338.csv', 'network_644.csv', 'network_284.csv', 'network_441.csv', 'network_393.csv', 'network_378.csv', 'network_581.csv', 'network_502.csv', 'network_295.csv', 'network_344.csv', 'network_365.csv', 'network_210.csv', 'network_314.csv', 'network_172.csv', 'network_336.csv', 'network_761.csv', 'network_120.csv', 'network_323.csv', 'network_500.csv', 'network_665.csv', 'network_58.csv', 'network_698.csv', 'network_32.csv', 'network_270.csv', 'network_567.csv', 'network_168.csv', 'network_222.csv', 'network_144.csv', 'network_348.csv', 'network_531.csv', 'network_223.csv', 'network_425.csv', 'network_755.csv']\n",
    "len(files)"
   ]
  },
  {
   "cell_type": "code",
   "execution_count": 2,
   "id": "03dcf4ac",
   "metadata": {},
   "outputs": [
    {
     "ename": "SyntaxError",
     "evalue": "invalid syntax (1230162020.py, line 4)",
     "output_type": "error",
     "traceback": [
      "\u001b[0;36m  Input \u001b[0;32mIn [2]\u001b[0;36m\u001b[0m\n\u001b[0;31m    [for network in lis for num in network num==0]\u001b[0m\n\u001b[0m     ^\u001b[0m\n\u001b[0;31mSyntaxError\u001b[0m\u001b[0;31m:\u001b[0m invalid syntax\n"
     ]
    }
   ],
   "source": [
    "lis = [[0,0,0,1],[1,0,1],[1],[1,0]]\n",
    "\n",
    "\n",
    "sumz = 0\n",
    "for network in lis:\n",
    "    for num in network:\n",
    "        sumz+="
   ]
  },
  {
   "cell_type": "code",
   "execution_count": 4,
   "id": "6bbf9034",
   "metadata": {},
   "outputs": [
    {
     "data": {
      "text/plain": [
       "71"
      ]
     },
     "execution_count": 4,
     "metadata": {},
     "output_type": "execute_result"
    }
   ],
   "source": [
    "perf =  ['network_67', 'network_12', 'network_90', 'network_50', 'network_6', 'network_85', 'network_69', 'network_63', 'network_35', 'network_31', 'network_119', 'network_13', 'network_71', 'network_14', 'network_59', 'network_91', 'network_30', 'network_86', 'network_195', 'network_172', 'network_154', 'network_175', 'network_125', 'network_46', 'network_37', 'network_97', 'network_62', 'network_76', 'network_26', 'network_25', 'network_160', 'network_82', 'network_146', 'network_45', 'network_164', 'network_192', 'network_187', 'network_182', 'network_126', 'network_18', 'network_17', 'network_191', 'network_179', 'network_61', 'network_176', 'network_197', 'network_137', 'network_55', 'network_60', 'network_180', 'network_141', 'network_4', 'network_127', 'network_171', 'network_1', 'network_161', 'network_169', 'network_53', 'network_143', 'network_147', 'network_162', 'network_33', 'network_106', 'network_116', 'network_140', 'network_184', 'network_101', 'network_21', 'network_52', 'network_41', 'network_118']\n",
    "len(perf)"
   ]
  },
  {
   "cell_type": "code",
   "execution_count": 7,
   "id": "99dcee35",
   "metadata": {},
   "outputs": [
    {
     "data": {
      "text/plain": [
       "94"
      ]
     },
     "execution_count": 7,
     "metadata": {},
     "output_type": "execute_result"
    }
   ],
   "source": [
    "broken_prev = ['network_7', 'network_166', 'network_44', 'network_11', 'network_165', 'network_65', 'network_70', 'network_36', 'network_9', 'network_159', 'network_2', 'network_135', 'network_80', 'network_77', 'network_167', 'network_103', 'network_34', 'network_134', 'network_122', 'network_68', 'network_57', 'network_170', 'network_96', 'network_113', 'network_186', 'network_29', 'network_163', 'network_190', 'network_15', 'network_49', 'network_109', 'network_112', 'network_10', 'network_133', 'network_102', 'network_47', 'network_58', 'network_177', 'network_79', 'network_130', 'network_185', 'network_99', 'network_193', 'network_73', 'network_84', 'network_8', 'network_121', 'network_56', 'network_142', 'network_22', 'network_144', 'network_136', 'network_120', 'network_43', 'network_54', 'network_152', 'network_111', 'network_72', 'network_27', 'network_81', 'network_153', 'network_189', 'network_110', 'network_39', 'network_196', 'network_105', 'network_28', 'network_83', 'network_75', 'network_48', 'network_138', 'network_174', 'network_132', 'network_40', 'network_117', 'network_194', 'network_128', 'network_188', 'network_129', 'network_151', 'network_115', 'network_150', 'network_24', 'network_74', 'network_5', 'network_173', 'network_157', 'network_158', 'network_123', 'network_51', 'network_198', 'network_16', 'network_23', 'network_139']\n",
    "len(broken_prev)"
   ]
  },
  {
   "cell_type": "code",
   "execution_count": 14,
   "id": "b049f7b3",
   "metadata": {},
   "outputs": [
    {
     "data": {
      "text/plain": [
       "93"
      ]
     },
     "execution_count": 14,
     "metadata": {},
     "output_type": "execute_result"
    }
   ],
   "source": [
    "broken_new = ['network_157', 'network_27', 'network_36', 'network_28', 'network_68', 'network_16', 'network_24', 'network_193', 'network_34', 'network_57', 'network_133', 'network_96', 'network_150', 'network_74', 'network_44', 'network_158', 'network_120', 'network_40', 'network_110', 'network_43', 'network_138', 'network_132', 'network_166', 'network_188', 'network_54', 'network_130', 'network_8', 'network_65', 'network_185', 'network_142', 'network_29', 'network_123', 'network_84', 'network_48', 'network_99', 'network_190', 'network_49', 'network_115', 'network_9', 'network_117', 'network_58', 'network_113', 'network_10', 'network_70', 'network_75', 'network_56', 'network_144', 'network_47', 'network_80', 'network_174', 'network_165', 'network_167', 'network_136', 'network_77', 'network_139', 'network_134', 'network_5', 'network_103', 'network_73', 'network_196', 'network_189', 'network_122', 'network_23', 'network_128', 'network_121', 'network_135', 'network_72', 'network_83', 'network_170', 'network_7', 'network_186', 'network_81', 'network_152', 'network_51', 'network_177', 'network_159', 'network_153', 'network_11', 'network_198', 'network_151', 'network_105', 'network_112', 'network_111', 'network_15', 'network_39', 'network_102', 'network_163', 'network_109', 'network_173', 'network_79', 'network_22', 'network_2', 'network_194']\n",
    "len(broken_new)"
   ]
  },
  {
   "cell_type": "code",
   "execution_count": 15,
   "id": "bef8538f",
   "metadata": {},
   "outputs": [
    {
     "data": {
      "text/plain": [
       "{'network_129'}"
      ]
     },
     "execution_count": 15,
     "metadata": {},
     "output_type": "execute_result"
    }
   ],
   "source": [
    "set(broken_prev) - set(broken_new)"
   ]
  },
  {
   "cell_type": "code",
   "execution_count": 16,
   "id": "b6c68055",
   "metadata": {},
   "outputs": [
    {
     "data": {
      "text/plain": [
       "90"
      ]
     },
     "execution_count": 16,
     "metadata": {},
     "output_type": "execute_result"
    }
   ],
   "source": [
    "broken_final = ['network_185', 'network_36', 'network_48', 'network_188', 'network_153', 'network_79', 'network_39', 'network_2', 'network_68', 'network_99', 'network_117', 'network_163', 'network_81', 'network_10', 'network_194', 'network_34', 'network_122', 'network_83', 'network_8', 'network_29', 'network_22', 'network_70', 'network_54', 'network_7', 'network_120', 'network_167', 'network_130', 'network_47', 'network_112', 'network_9', 'network_5', 'network_198', 'network_102', 'network_103', 'network_139', 'network_177', 'network_136', 'network_109', 'network_73', 'network_75', 'network_170', 'network_58', 'network_84', 'network_57', 'network_186', 'network_196', 'network_128', 'network_16', 'network_150', 'network_151', 'network_152', 'network_40', 'network_24', 'network_44', 'network_111', 'network_173', 'network_74', 'network_77', 'network_165', 'network_159', 'network_28', 'network_96', 'network_43', 'network_27', 'network_190', 'network_11', 'network_80', 'network_158', 'network_144', 'network_121', 'network_193', 'network_189', 'network_166', 'network_65', 'network_15', 'network_49', 'network_123', 'network_51', 'network_134', 'network_56', 'network_138', 'network_72', 'network_23', 'network_132', 'network_110', 'network_133', 'network_135', 'network_174', 'network_142', 'network_115']\n",
    "len(broken_final)"
   ]
  },
  {
   "cell_type": "code",
   "execution_count": 18,
   "id": "7b3255cf",
   "metadata": {},
   "outputs": [
    {
     "data": {
      "text/plain": [
       "71"
      ]
     },
     "execution_count": 18,
     "metadata": {},
     "output_type": "execute_result"
    }
   ],
   "source": [
    "perf = ['network_67', 'network_12', 'network_90', 'network_50', 'network_6', 'network_85', 'network_69', 'network_63', 'network_35', 'network_31', 'network_119', 'network_13', 'network_71', 'network_14', 'network_59', 'network_91', 'network_30', 'network_86', 'network_195', 'network_172', 'network_154', 'network_175', 'network_125', 'network_46', 'network_37', 'network_97', 'network_62', 'network_76', 'network_26', 'network_25', 'network_160', 'network_82', 'network_146', 'network_45', 'network_164', 'network_192', 'network_187', 'network_182', 'network_126', 'network_18', 'network_17', 'network_191', 'network_179', 'network_61', 'network_176', 'network_197', 'network_137', 'network_55', 'network_60', 'network_180', 'network_141', 'network_4', 'network_127', 'network_171', 'network_1', 'network_161', 'network_169', 'network_53', 'network_143', 'network_147', 'network_162', 'network_33', 'network_106', 'network_116', 'network_140', 'network_184', 'network_101', 'network_21', 'network_52', 'network_41', 'network_118']\n",
    "len(perf)"
   ]
  },
  {
   "cell_type": "code",
   "execution_count": 19,
   "id": "cead1985",
   "metadata": {},
   "outputs": [],
   "source": [
    "new_perf = ['network_85', 'network_78', 'network_8', 'network_73', 'network_3', 'network_57', 'network_22', 'network_88', 'network_33', 'network_47', 'network_13', 'network_43', 'network_10', 'network_1', 'network_41', 'network_9', 'network_23', 'network_52', 'network_37', 'network_15', 'network_4', 'network_72', 'network_77', 'network_51', 'network_63', 'network_86']\n",
    "new_imperf = ['network_56', 'network_21', 'network_60', 'network_80', 'network_26', 'network_81', 'network_0', 'network_11', 'network_12', 'network_50', 'network_79', 'network_40', 'network_17', 'network_61', 'network_49', 'network_69', 'network_20', 'network_14', 'network_67', 'network_25', 'network_46', 'network_6']\n"
   ]
  },
  {
   "cell_type": "code",
   "execution_count": 21,
   "id": "248827d8",
   "metadata": {},
   "outputs": [
    {
     "data": {
      "text/plain": [
       "22"
      ]
     },
     "execution_count": 21,
     "metadata": {},
     "output_type": "execute_result"
    }
   ],
   "source": [
    "len(new_imperf)"
   ]
  },
  {
   "cell_type": "code",
   "execution_count": 12,
   "id": "971d714a",
   "metadata": {},
   "outputs": [],
   "source": [
    "sr_int = 50000\n",
    "sr_bytes = sr_int.to_bytes(4, 'big')"
   ]
  },
  {
   "cell_type": "code",
   "execution_count": 13,
   "id": "3a89c9da",
   "metadata": {},
   "outputs": [
    {
     "data": {
      "text/plain": [
       "b'\\x00\\x00\\xc3P'"
      ]
     },
     "execution_count": 13,
     "metadata": {},
     "output_type": "execute_result"
    }
   ],
   "source": [
    "sr_bytes"
   ]
  },
  {
   "cell_type": "code",
   "execution_count": 3,
   "id": "ddde2985",
   "metadata": {},
   "outputs": [
    {
     "data": {
      "text/plain": [
       "42"
      ]
     },
     "execution_count": 3,
     "metadata": {},
     "output_type": "execute_result"
    }
   ],
   "source": [
    "broken_2x16x16_125000 = ['network_20_set_0', 'network_9_set_0', 'network_70_set_0', 'network_155_set_0', 'network_143_set_0', 'network_134_set_0', 'network_36_set_0', 'network_102_set_0', 'network_135_set_0', 'network_65_set_0', 'network_118_set_0', 'network_66_set_0', 'network_125_set_0', 'network_170_set_0', 'network_78_set_0', 'network_115_set_0', 'network_182_set_0', 'network_178_set_0', 'network_160_set_0', 'network_101_set_0', 'network_129_set_0', 'network_157_set_0', 'network_52_set_0', 'network_59_set_0', 'network_54_set_0', 'network_16_set_0', 'network_76_set_0', 'network_185_set_0', 'network_174_set_0', 'network_131_set_0', 'network_3_set_0', 'network_189_set_0', 'network_177_set_0', 'network_12_set_0', 'network_26_set_0', 'network_168_set_0', 'network_42_set_0', 'network_10_set_0', 'network_8_set_0', 'network_120_set_0', 'network_108_set_0', 'network_1_set_0']\n",
    "\n",
    "len(broken_2x16x16_125000)"
   ]
  },
  {
   "cell_type": "code",
   "execution_count": 5,
   "id": "2f1b5a56",
   "metadata": {},
   "outputs": [
    {
     "data": {
      "text/plain": [
       "57"
      ]
     },
     "execution_count": 5,
     "metadata": {},
     "output_type": "execute_result"
    }
   ],
   "source": [
    "broken_2x16x16_175000 = ['network_38_set_0', 'network_164_set_0', 'network_113_set_0', 'network_188_set_0', 'network_139_set_0', 'network_114_set_0', 'network_154_set_0', 'network_120_set_0', 'network_4_set_0', 'network_118_set_0', 'network_9_set_0', 'network_16_set_0', 'network_143_set_0', 'network_152_set_0', 'network_55_set_0', 'network_141_set_0', 'network_56_set_0', 'network_193_set_0', 'network_26_set_0', 'network_79_set_0', 'network_69_set_0', 'network_137_set_0', 'network_75_set_0', 'network_125_set_0', 'network_82_set_0', 'network_48_set_0', 'network_42_set_0', 'network_70_set_0', 'network_190_set_0', 'network_106_set_0', 'network_36_set_0', 'network_83_set_0', 'network_100_set_0', 'network_65_set_0', 'network_171_set_0', 'network_179_set_0', 'network_12_set_0', 'network_99_set_0', 'network_81_set_0', 'network_140_set_0', 'network_6_set_0', 'network_167_set_0', 'network_29_set_0', 'network_3_set_0', 'network_60_set_0', 'network_31_set_0', 'network_149_set_0', 'network_169_set_0', 'network_47_set_0', 'network_157_set_0', 'network_2_set_0', 'network_153_set_0', 'network_134_set_0', 'network_13_set_0', 'network_52_set_0', 'network_46_set_0', 'network_7_set_0']\n",
    "len(broken_2x16x16_175000)"
   ]
  },
  {
   "cell_type": "code",
   "execution_count": 6,
   "id": "ac57b7f6",
   "metadata": {},
   "outputs": [
    {
     "data": {
      "text/plain": [
       "68"
      ]
     },
     "execution_count": 6,
     "metadata": {},
     "output_type": "execute_result"
    }
   ],
   "source": [
    "broken_2x16x16_525k = ['network_171_set_0', 'network_191_set_0', 'network_111_set_0', 'network_2_set_0', 'network_35_set_0', 'network_52_set_0', 'network_110_set_0', 'network_89_set_0', 'network_47_set_0', 'network_116_set_0', 'network_15_set_0', 'network_172_set_0', 'network_14_set_0', 'network_178_set_0', 'network_133_set_0', 'network_83_set_0', 'network_30_set_0', 'network_55_set_0', 'network_151_set_0', 'network_81_set_0', 'network_51_set_0', 'network_170_set_0', 'network_46_set_0', 'network_139_set_0', 'network_101_set_0', 'network_195_set_0', 'network_18_set_0', 'network_197_set_0', 'network_130_set_0', 'network_62_set_0', 'network_4_set_0', 'network_148_set_0', 'network_136_set_0', 'network_44_set_0', 'network_179_set_0', 'network_102_set_0', 'network_56_set_0', 'network_185_set_0', 'network_21_set_0', 'network_176_set_0', 'network_7_set_0', 'network_84_set_0', 'network_1_set_0', 'network_193_set_0', 'network_149_set_0', 'network_72_set_0', 'network_70_set_0', 'network_126_set_0', 'network_26_set_0', 'network_183_set_0', 'network_65_set_0', 'network_108_set_0', 'network_152_set_0', 'network_24_set_0', 'network_8_set_0', 'network_54_set_0', 'network_186_set_0', 'network_181_set_0', 'network_194_set_0', 'network_175_set_0', 'network_43_set_0', 'network_73_set_0', 'network_50_set_0', 'network_106_set_0', 'network_104_set_0', 'network_78_set_0', 'network_96_set_0', 'network_57_set_0']\n",
    "len(broken_2x16x16_525k)"
   ]
  },
  {
   "cell_type": "code",
   "execution_count": 7,
   "id": "0467d726",
   "metadata": {},
   "outputs": [
    {
     "data": {
      "text/plain": [
       "85"
      ]
     },
     "execution_count": 7,
     "metadata": {},
     "output_type": "execute_result"
    }
   ],
   "source": [
    "broken_2x16x16_350 = ['network_125_set_0', 'network_177_set_0', 'network_172_set_0', 'network_21_set_0', 'network_129_set_0', 'network_160_set_0', 'network_128_set_0', 'network_114_set_0', 'network_182_set_0', 'network_149_set_0', 'network_153_set_0', 'network_151_set_0', 'network_87_set_0', 'network_91_set_0', 'network_57_set_0', 'network_70_set_0', 'network_120_set_0', 'network_55_set_0', 'network_44_set_0', 'network_13_set_0', 'network_133_set_0', 'network_113_set_0', 'network_37_set_0', 'network_158_set_0', 'network_38_set_0', 'network_108_set_0', 'network_193_set_0', 'network_198_set_0', 'network_163_set_0', 'network_32_set_0', 'network_28_set_0', 'network_94_set_0', 'network_105_set_0', 'network_14_set_0', 'network_82_set_0', 'network_29_set_0', 'network_35_set_0', 'network_48_set_0', 'network_102_set_0', 'network_196_set_0', 'network_171_set_0', 'network_155_set_0', 'network_6_set_0', 'network_30_set_0', 'network_67_set_0', 'network_78_set_0', 'network_121_set_0', 'network_64_set_0', 'network_103_set_0', 'network_104_set_0', 'network_31_set_0', 'network_189_set_0', 'network_122_set_0', 'network_119_set_0', 'network_123_set_0', 'network_2_set_0', 'network_92_set_0', 'network_40_set_0', 'network_79_set_0', 'network_60_set_0', 'network_58_set_0', 'network_165_set_0', 'network_180_set_0', 'network_98_set_0', 'network_47_set_0', 'network_74_set_0', 'network_20_set_0', 'network_106_set_0', 'network_27_set_0', 'network_49_set_0', 'network_115_set_0', 'network_61_set_0', 'network_118_set_0', 'network_97_set_0', 'network_33_set_0', 'network_162_set_0', 'network_51_set_0', 'network_19_set_0', 'network_54_set_0', 'network_80_set_0', 'network_176_set_0', 'network_146_set_0', 'network_63_set_0', 'network_86_set_0', 'network_136_set_0']\n",
    "len(broken_2x16x16_350)"
   ]
  },
  {
   "cell_type": "code",
   "execution_count": 8,
   "id": "11657cd8",
   "metadata": {},
   "outputs": [
    {
     "data": {
      "text/plain": [
       "76"
      ]
     },
     "execution_count": 8,
     "metadata": {},
     "output_type": "execute_result"
    }
   ],
   "source": [
    "broken_300k = ['network_161_set_0', 'network_24_set_0', 'network_44_set_0', 'network_149_set_0', 'network_171_set_0', 'network_125_set_0', 'network_40_set_0', 'network_165_set_0', 'network_188_set_0', 'network_5_set_0', 'network_31_set_0', 'network_4_set_0', 'network_87_set_0', 'network_170_set_0', 'network_154_set_0', 'network_160_set_0', 'network_126_set_0', 'network_199_set_0', 'network_153_set_0', 'network_19_set_0', 'network_135_set_0', 'network_173_set_0', 'network_15_set_0', 'network_194_set_0', 'network_166_set_0', 'network_42_set_0', 'network_48_set_0', 'network_11_set_0', 'network_67_set_0', 'network_158_set_0', 'network_30_set_0', 'network_58_set_0', 'network_26_set_0', 'network_81_set_0', 'network_196_set_0', 'network_123_set_0', 'network_144_set_0', 'network_110_set_0', 'network_52_set_0', 'network_60_set_0', 'network_168_set_0', 'network_62_set_0', 'network_98_set_0', 'network_28_set_0', 'network_176_set_0', 'network_53_set_0', 'network_175_set_0', 'network_82_set_0', 'network_177_set_0', 'network_140_set_0', 'network_9_set_0', 'network_6_set_0', 'network_102_set_0', 'network_21_set_0', 'network_51_set_0', 'network_13_set_0', 'network_155_set_0', 'network_75_set_0', 'network_14_set_0', 'network_178_set_0', 'network_3_set_0', 'network_141_set_0', 'network_119_set_0', 'network_22_set_0', 'network_71_set_0', 'network_117_set_0', 'network_198_set_0', 'network_23_set_0', 'network_169_set_0', 'network_118_set_0', 'network_146_set_0', 'network_164_set_0', 'network_181_set_0', 'network_25_set_0', 'network_103_set_0', 'network_27_set_0']\n",
    "len(broken_300k)"
   ]
  },
  {
   "cell_type": "code",
   "execution_count": 9,
   "id": "d64b1112",
   "metadata": {},
   "outputs": [
    {
     "data": {
      "text/plain": [
       "41"
      ]
     },
     "execution_count": 9,
     "metadata": {},
     "output_type": "execute_result"
    }
   ],
   "source": [
    "broken_125k = ['network_84_set_0', 'network_45_set_0', 'network_175_set_0', 'network_125_set_0', 'network_4_set_0', 'network_167_set_0', 'network_99_set_0', 'network_78_set_0', 'network_98_set_0', 'network_160_set_0', 'network_50_set_0', 'network_65_set_0', 'network_35_set_0', 'network_106_set_0', 'network_116_set_0', 'network_147_set_0', 'network_143_set_0', 'network_154_set_0', 'network_64_set_0', 'network_155_set_0', 'network_159_set_0', 'network_195_set_0', 'network_7_set_0', 'network_49_set_0', 'network_13_set_0', 'network_152_set_0', 'network_131_set_0', 'network_51_set_0', 'network_187_set_0', 'network_119_set_0', 'network_66_set_0', 'network_32_set_0', 'network_166_set_0', 'network_92_set_0', 'network_138_set_0', 'network_30_set_0', 'network_142_set_0', 'network_139_set_0', 'network_11_set_0', 'network_93_set_0', 'network_184_set_0']\n",
    "len(broken_125k)"
   ]
  },
  {
   "cell_type": "code",
   "execution_count": 10,
   "id": "0e55f1a3",
   "metadata": {},
   "outputs": [
    {
     "data": {
      "text/plain": [
       "49"
      ]
     },
     "execution_count": 10,
     "metadata": {},
     "output_type": "execute_result"
    }
   ],
   "source": [
    "broken_100k = ['network_70_set_0', 'network_41_set_0', 'network_197_set_0', 'network_26_set_0', 'network_162_set_0', 'network_105_set_0', 'network_160_set_0', 'network_166_set_0', 'network_12_set_0', 'network_189_set_0', 'network_56_set_0', 'network_145_set_0', 'network_115_set_0', 'network_111_set_0', 'network_193_set_0', 'network_2_set_0', 'network_138_set_0', 'network_29_set_0', 'network_144_set_0', 'network_194_set_0', 'network_129_set_0', 'network_195_set_0', 'network_198_set_0', 'network_178_set_0', 'network_73_set_0', 'network_14_set_0', 'network_159_set_0', 'network_44_set_0', 'network_185_set_0', 'network_64_set_0', 'network_36_set_0', 'network_184_set_0', 'network_199_set_0', 'network_108_set_0', 'network_99_set_0', 'network_126_set_0', 'network_80_set_0', 'network_40_set_0', 'network_157_set_0', 'network_196_set_0', 'network_124_set_0', 'network_170_set_0', 'network_4_set_0', 'network_148_set_0', 'network_88_set_0', 'network_119_set_0', 'network_183_set_0', 'network_102_set_0', 'network_101_set_0']\n",
    "len(broken_100k)"
   ]
  }
 ],
 "metadata": {
  "kernelspec": {
   "display_name": "Python [conda env:tvm-build-il-2] *",
   "language": "python",
   "name": "conda-env-tvm-build-il-2-py"
  },
  "language_info": {
   "codemirror_mode": {
    "name": "ipython",
    "version": 3
   },
   "file_extension": ".py",
   "mimetype": "text/x-python",
   "name": "python",
   "nbconvert_exporter": "python",
   "pygments_lexer": "ipython3",
   "version": "3.8.13"
  }
 },
 "nbformat": 4,
 "nbformat_minor": 5
}
