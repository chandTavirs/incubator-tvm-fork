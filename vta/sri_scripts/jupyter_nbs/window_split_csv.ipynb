{
 "cells": [
  {
   "cell_type": "code",
   "execution_count": 2,
   "id": "3dedbf8c",
   "metadata": {},
   "outputs": [],
   "source": [
    "%matplotlib inline\n",
    "import pandas as pd\n",
    "import numpy as np\n",
    "import pywt\n",
    "from scipy.stats import median_absolute_deviation\n",
    "from sklearn.cluster import KMeans\n",
    "import matplotlib.pyplot as plt\n",
    "from scipy import stats\n",
    "\n",
    "\n",
    "# csv_file = '../ro_uart_logs/ro_log_raw.csv'\n",
    "\n",
    "# # Read the CSV file into a Pandas DataFrame\n",
    "# df = pd.read_csv(csv_file)"
   ]
  },
  {
   "cell_type": "code",
   "execution_count": 30,
   "id": "1c94f1f8",
   "metadata": {},
   "outputs": [],
   "source": [
    "def extract_features(window, only_stat=False):\n",
    "    features = {}\n",
    "    \n",
    "    features['mean'] = window.mean()\n",
    "    features['std'] = window.std()\n",
    "    features['median'] = np.median(window)\n",
    "    \n",
    "    if only_stat == True:\n",
    "        return pd.Series(features)\n",
    "        \n",
    "    \n",
    "    # Discrete Wavelet Transform (DWT) using pywt library\n",
    "    coeffs = pywt.dwt(window, 'db4')\n",
    "    features['cA'] = np.mean(coeffs[0])  # Approximation coefficients\n",
    "    features['cD'] = np.mean(coeffs[1])  # Detail coefficients\n",
    "    \n",
    "    return pd.Series(features)"
   ]
  },
  {
   "cell_type": "code",
   "execution_count": 28,
   "id": "76a7c2fb",
   "metadata": {},
   "outputs": [],
   "source": [
    "csv_file = '/home/srchand/Desktop/research/TVM_Intel_Fork/tvm/vta/sri_scripts/dataset/ro_uart/rcg/network_21.csv'\n",
    "\n",
    "def extract_windows_and_labels(file_path, window_size, overlap):\n",
    "    data = pd.read_csv(file_path)\n",
    "    windows = []\n",
    "    labels = []\n",
    "\n",
    "    for i in range(0, len(data) - window_size + 1, overlap):\n",
    "        window = data.iloc[i:i + window_size]\n",
    "        if 'boundary' in window['LAYER_OR_BOUNDARY'].values:\n",
    "            label = 'boundary'\n",
    "        else:\n",
    "            label = 'layer'\n",
    "        windows.append(window['RO_VALUE'])\n",
    "        labels.append(label)\n",
    "\n",
    "    return windows, labels\n",
    "\n",
    "# Directory containing CSV files (replace with your directory path)\n",
    "data_dir = 'your_data_directory'\n",
    "window_size = 20  # Adjust window size as needed\n",
    "overlap = 1       # Adjust overlap as needed\n",
    "\n",
    "X = []  # List to store windows\n",
    "y = []  # List to store labels\n",
    "\n",
    "# Loop through each CSV file in the directory\n",
    "# for filename in os.listdir(data_dir):\n",
    "#     if filename.endswith(\".csv\"):\n",
    "#         file_path = os.path.join(data_dir, filename)\n",
    "windows, labels = extract_windows_and_labels(csv_file, window_size, overlap)\n",
    "X.extend(windows)\n",
    "y.extend(labels)"
   ]
  },
  {
   "cell_type": "code",
   "execution_count": 31,
   "id": "27798d5d",
   "metadata": {},
   "outputs": [],
   "source": [
    "df_features = pd.DataFrame(extract_features(window) for window in X)"
   ]
  },
  {
   "cell_type": "code",
   "execution_count": 33,
   "id": "3d92366a",
   "metadata": {},
   "outputs": [],
   "source": [
    "medians = df_features['median']\n",
    "\n",
    "normalized_features = (df_features - df_features.mean()) / df_features.std()\n",
    "\n",
    "normalized_features['median'] = medians\n"
   ]
  },
  {
   "cell_type": "code",
   "execution_count": 25,
   "id": "ee4f4d47",
   "metadata": {},
   "outputs": [
    {
     "data": {
      "image/png": "[encoded data removed]",
      "text/plain": [
       "<Figure size 720x360 with 1 Axes>"
      ]
     },
     "metadata": {
      "needs_background": "light"
     },
     "output_type": "display_data"
    }
   ],
   "source": [
    "time_axis = range(len(y))\n",
    "\n",
    "plt.figure(figsize=(10,5))\n",
    "plt.plot(time_axis,y,marker='o',linestyle='-')\n",
    "plt.xlabel('Time')\n",
    "plt.ylabel('Labels')\n",
    "plt.title('Line Plot of Labels')\n",
    "plt.grid(True)\n",
    "\n",
    "plt.yticks(['layer','boundary'])\n",
    "plt.show()"
   ]
  },
  {
   "cell_type": "code",
   "execution_count": 21,
   "id": "edd8667b",
   "metadata": {},
   "outputs": [
    {
     "ename": "NameError",
     "evalue": "name 'df' is not defined",
     "output_type": "error",
     "traceback": [
      "\u001b[0;31m---------------------------------------------------------------------------\u001b[0m",
      "\u001b[0;31mNameError\u001b[0m                                 Traceback (most recent call last)",
      "Input \u001b[0;32mIn [21]\u001b[0m, in \u001b[0;36m<cell line: 1>\u001b[0;34m()\u001b[0m\n\u001b[0;32m----> 1\u001b[0m \u001b[43mdf\u001b[49m\u001b[38;5;241m.\u001b[39mplot(subplots\u001b[38;5;241m=\u001b[39m\u001b[38;5;28;01mTrue\u001b[39;00m, figsize\u001b[38;5;241m=\u001b[39m(\u001b[38;5;241m20\u001b[39m,\u001b[38;5;241m10\u001b[39m))\n\u001b[1;32m      2\u001b[0m plt\u001b[38;5;241m.\u001b[39mylim(\u001b[38;5;241m18000\u001b[39m,\u001b[38;5;241m22000\u001b[39m)\n\u001b[1;32m      3\u001b[0m plt\u001b[38;5;241m.\u001b[39mshow()\n",
      "\u001b[0;31mNameError\u001b[0m: name 'df' is not defined"
     ]
    }
   ],
   "source": [
    "df.plot(subplots=True, figsize=(20,10))\n",
    "plt.ylim(18000,22000)\n",
    "plt.show()\n"
   ]
  },
  {
   "cell_type": "code",
   "execution_count": 26,
   "id": "9e1cd730",
   "metadata": {},
   "outputs": [],
   "source": [
    "def find_first_occ(arr, check_element='boundary'):\n",
    "    for i, val in enumerate(arr):\n",
    "            if val == check_element:\n",
    "                return i\n",
    "    return -1\n",
    "\n",
    "def count_contig(arr, check_element='boundary'):\n",
    "    regions = 0\n",
    "    curr_value = arr[0]\n",
    "    first_occ = 0\n",
    "    if curr_value != check_element:\n",
    "        first_occ = find_first_occ(arr,check_element)\n",
    "        \n",
    "    curr_value = arr[first_occ]\n",
    "    in_region = False\n",
    "    for i in range(first_occ,len(arr)):\n",
    "        if arr[i] == check_element:\n",
    "            if not in_region:\n",
    "                regions += 1\n",
    "                in_region = True\n",
    "        else:\n",
    "            in_region = False\n",
    "    \n",
    "    return regions"
   ]
  },
  {
   "cell_type": "code",
   "execution_count": 27,
   "id": "da63b865",
   "metadata": {},
   "outputs": [
    {
     "data": {
      "text/plain": [
       "4"
      ]
     },
     "execution_count": 27,
     "metadata": {},
     "output_type": "execute_result"
    }
   ],
   "source": [
    "count_contig(y)"
   ]
  },
  {
   "cell_type": "code",
   "execution_count": null,
   "id": "4cb532ee",
   "metadata": {},
   "outputs": [],
   "source": []
  }
 ],
 "metadata": {
  "kernelspec": {
   "display_name": "Python [conda env:tvm-build-il-2] *",
   "language": "python",
   "name": "conda-env-tvm-build-il-2-py"
  },
  "language_info": {
   "codemirror_mode": {
    "name": "ipython",
    "version": 3
   },
   "file_extension": ".py",
   "mimetype": "text/x-python",
   "name": "python",
   "nbconvert_exporter": "python",
   "pygments_lexer": "ipython3",
   "version": "3.8.13"
  }
 },
 "nbformat": 4,
 "nbformat_minor": 5
}
