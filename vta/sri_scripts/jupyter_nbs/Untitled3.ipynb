{
 "cells": [
  {
   "cell_type": "code",
   "execution_count": 46,
   "id": "be5d969e",
   "metadata": {},
   "outputs": [],
   "source": [
    "import re\n",
    "\n",
    "output = \"\"\"\n",
    "  0xbb00 - 2\n",
    "  0xbb00 - 1\n",
    "  0xbb00 - 2\n",
    "  0xbb00 - 3\n",
    "  0xbb00 - 1\n",
    "  0xbb00 - 2\n",
    "  0xbb00 - 2\n",
    "  0xbb00 - 1\n",
    "  0xbb00 - 1\n",
    "  0xbb00 - 1\n",
    "  0xbb00 - 3\n",
    "  0xbb00 - 2\n",
    "  0xbb00 - 1\n",
    "  0xbb00 - 2\n",
    "  0xbb00 - 3\n",
    "  0xbb00 - 1\n",
    "  0xbb00 - 2\n",
    "  0xbb00 - 2\n",
    "  0xbb00 - 1\n",
    "  0xbb00 - 2\n",
    "  0xbb00 - 3\n",
    "  0xbb00 - 1\n",
    "  0xbb00 - 1\n",
    "  0xbb00 - 1\n",
    "  0xbb00 - 4\n",
    "  0xbb00 - 2\n",
    "  0xbb00 - 1\n",
    "  0xbb00 - 1\n",
    "  0xbb00 - 2\n",
    "  0xbb00 - 3\n",
    "  0xbb00 - 1\n",
    "  0xbb00 - 2\n",
    "  0xbb00 - 2\n",
    "  0xbb00 - 2\n",
    "  0xbb00 - 1\n",
    "  0xbb00 - 3\n",
    "  0xbb00 - 1\n",
    "\n",
    "  \"\"\""
   ]
  },
  {
   "cell_type": "code",
   "execution_count": 47,
   "id": "e19a970f",
   "metadata": {},
   "outputs": [],
   "source": [
    "reg = re.compile(\".* - ([\\d]+)\")"
   ]
  },
  {
   "cell_type": "code",
   "execution_count": 48,
   "id": "62ed3548",
   "metadata": {},
   "outputs": [],
   "source": [
    "hits = reg.findall(output)"
   ]
  },
  {
   "cell_type": "code",
   "execution_count": 49,
   "id": "9ec4bac8",
   "metadata": {},
   "outputs": [],
   "source": [
    "total = 0\n",
    "for hit in hits:\n",
    "    total += int(hit)"
   ]
  },
  {
   "cell_type": "code",
   "execution_count": 50,
   "id": "5031601a",
   "metadata": {},
   "outputs": [
    {
     "data": {
      "text/plain": [
       "66"
      ]
     },
     "execution_count": 50,
     "metadata": {},
     "output_type": "execute_result"
    }
   ],
   "source": [
    "total"
   ]
  },
  {
   "cell_type": "code",
   "execution_count": null,
   "id": "c8004d97",
   "metadata": {},
   "outputs": [],
   "source": []
  }
 ],
 "metadata": {
  "kernelspec": {
   "display_name": "Python [conda env:tvm-build-il-2] *",
   "language": "python",
   "name": "conda-env-tvm-build-il-2-py"
  },
  "language_info": {
   "codemirror_mode": {
    "name": "ipython",
    "version": 3
   },
   "file_extension": ".py",
   "mimetype": "text/x-python",
   "name": "python",
   "nbconvert_exporter": "python",
   "pygments_lexer": "ipython3",
   "version": "3.8.13"
  }
 },
 "nbformat": 4,
 "nbformat_minor": 5
}
